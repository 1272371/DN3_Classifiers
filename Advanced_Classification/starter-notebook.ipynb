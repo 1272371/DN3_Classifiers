{
 "cells": [
  {
   "cell_type": "markdown",
   "id": "6c7e849a",
   "metadata": {
    "ExecuteTime": {
     "end_time": "2021-06-11T09:24:53.643384Z",
     "start_time": "2021-06-11T09:24:53.622385Z"
    }
   },
   "source": [
    "# Twitter Sentiment Classification Predict\n",
    "\n",
    "© Explore Data Science Academy"
   ]
  },
  {
   "cell_type": "markdown",
   "id": "05600c92",
   "metadata": {},
   "source": [
    "<a id=\"cont\"></a>\n",
    "\n",
    "## Table of Contents\n",
    "\n",
    "<a href=#one>1. Importing Packages</a>\n",
    "\n",
    "<a href=#two>2. Loading Data</a>\n",
    "\n",
    "<a href=#three>3. Exploratory Data Analysis (EDA)</a>\n",
    "\n",
    "<a href=#four>4. Data Engineering</a>\n",
    "\n",
    "<a href=#five>5. Modeling</a>\n",
    "\n",
    "<a href=#six>6. Model Performance</a>\n",
    "\n",
    "<a href=#seven>7. Model Explanations</a>"
   ]
  },
  {
   "cell_type": "markdown",
   "id": "997462e2",
   "metadata": {},
   "source": [
    " <a id=\"one\"></a>\n",
    "## 1. Importing Packages\n",
    "<a href=#cont>Back to Table of Contents</a>\n",
    "\n",
    "---\n",
    "    \n",
    "| ⚡ Description: Importing Packages ⚡ |\n",
    "| :--------------------------- |\n",
    "| In this section you are required to import, and briefly discuss, the libraries that will be used throughout your analysis and modelling. |\n",
    "\n",
    "---"
   ]
  },
  {
   "cell_type": "code",
   "execution_count": 1,
   "id": "5fb42cbc",
   "metadata": {},
   "outputs": [
    {
     "name": "stdout",
     "output_type": "stream",
     "text": [
      "Requirement already satisfied: matplotlib in c:\\users\\palesa motsoahae\\anaconda3\\lib\\site-packages (3.5.2)\n",
      "Requirement already satisfied: packaging>=20.0 in c:\\users\\palesa motsoahae\\anaconda3\\lib\\site-packages (from matplotlib) (21.3)\n",
      "Requirement already satisfied: numpy>=1.17 in c:\\users\\palesa motsoahae\\anaconda3\\lib\\site-packages (from matplotlib) (1.21.5)\n",
      "Requirement already satisfied: cycler>=0.10 in c:\\users\\palesa motsoahae\\anaconda3\\lib\\site-packages (from matplotlib) (0.11.0)\n",
      "Requirement already satisfied: kiwisolver>=1.0.1 in c:\\users\\palesa motsoahae\\anaconda3\\lib\\site-packages (from matplotlib) (1.4.2)\n",
      "Requirement already satisfied: pillow>=6.2.0 in c:\\users\\palesa motsoahae\\anaconda3\\lib\\site-packages (from matplotlib) (9.2.0)\n",
      "Requirement already satisfied: fonttools>=4.22.0 in c:\\users\\palesa motsoahae\\anaconda3\\lib\\site-packages (from matplotlib) (4.25.0)\n",
      "Requirement already satisfied: python-dateutil>=2.7 in c:\\users\\palesa motsoahae\\anaconda3\\lib\\site-packages (from matplotlib) (2.8.2)\n",
      "Requirement already satisfied: pyparsing>=2.2.1 in c:\\users\\palesa motsoahae\\anaconda3\\lib\\site-packages (from matplotlib) (3.0.9)\n",
      "Requirement already satisfied: six>=1.5 in c:\\users\\palesa motsoahae\\anaconda3\\lib\\site-packages (from python-dateutil>=2.7->matplotlib) (1.16.0)\n",
      "Note: you may need to restart the kernel to use updated packages.\n"
     ]
    }
   ],
   "source": [
    "pip install matplotlib"
   ]
  },
  {
   "cell_type": "code",
   "execution_count": 2,
   "id": "2e3107f1",
   "metadata": {},
   "outputs": [
    {
     "name": "stdout",
     "output_type": "stream",
     "text": [
      "Note: you may need to restart the kernel to use updated packages.\n"
     ]
    },
    {
     "name": "stderr",
     "output_type": "stream",
     "text": [
      "ERROR: Could not find a version that satisfies the requirement worldcloud (from versions: none)\n",
      "ERROR: No matching distribution found for worldcloud\n"
     ]
    }
   ],
   "source": [
    "pip install worldcloud"
   ]
  },
  {
   "cell_type": "code",
   "execution_count": 3,
   "id": "475dbe93",
   "metadata": {
    "ExecuteTime": {
     "end_time": "2021-06-23T10:30:53.800892Z",
     "start_time": "2021-06-23T10:30:50.215449Z"
    }
   },
   "outputs": [],
   "source": [
    "# Libraries for data loading, data manipulation and data visulisation\n",
    "import pandas as pd\n",
    "import numpy as np\n",
    "import math\n",
    "from scipy.sparse import csr_matrix\n",
    "import re\n",
    "import matplotlib.pyplot as plt\n",
    "import seaborn as sns\n",
    "\n",
    "import nltk.downloader\n",
    "from nltk.tokenize import TreebankWordTokenizer\n",
    "from nltk.stem import WordNetLemmatizer\n",
    "from nltk.corpus import stopwords\n",
    "from sklearn.feature_extraction.text import CountVectorizer\n",
    "from nltk.util import ngrams\n",
    "from sklearn.utils import resample\n",
    "\n",
    "from sklearn.naive_bayes import BernoulliNB\n",
    "from sklearn.model_selection import train_test_split\n",
    "from sklearn.linear_model import LogisticRegression\n",
    "from sklearn import metrics\n",
    "from sklearn.ensemble        import RandomForestClassifier\n",
    "from sklearn.neighbors       import KNeighborsClassifier\n",
    "from sklearn.svm             import SVC\n",
    "from sklearn.tree import plot_tree\n",
    "from sklearn.metrics import classification_report, accuracy_score, log_loss, f1_score\n",
    "from sklearn.feature_extraction.text import CountVectorizer\n",
    "\n",
    "import pickle\n",
    "import json\n",
    "%matplotlib inline\n",
    "pd.pandas.set_option('display.max_columns',None)"
   ]
  },
  {
   "cell_type": "markdown",
   "id": "f22a6718",
   "metadata": {},
   "source": [
    "<a id=\"two\"></a>\n",
    "## 2. Loading the Data\n",
    "<a class=\"anchor\" id=\"1.1\"></a>\n",
    "<a href=#cont>Back to Table of Contents</a>\n",
    "\n",
    "---\n",
    "    \n",
    "| ⚡ Description: Loading the data ⚡ |\n",
    "| :--------------------------- |\n",
    "| In this section you are required to load the data from the `df_train` file into a DataFrame. |\n",
    "\n",
    "---"
   ]
  },
  {
   "cell_type": "code",
   "execution_count": 4,
   "id": "fbbb6c18",
   "metadata": {
    "ExecuteTime": {
     "end_time": "2021-06-28T08:49:35.311495Z",
     "start_time": "2021-06-28T08:49:35.295494Z"
    }
   },
   "outputs": [
    {
     "data": {
      "text/html": [
       "<div>\n",
       "<style scoped>\n",
       "    .dataframe tbody tr th:only-of-type {\n",
       "        vertical-align: middle;\n",
       "    }\n",
       "\n",
       "    .dataframe tbody tr th {\n",
       "        vertical-align: top;\n",
       "    }\n",
       "\n",
       "    .dataframe thead th {\n",
       "        text-align: right;\n",
       "    }\n",
       "</style>\n",
       "<table border=\"1\" class=\"dataframe\">\n",
       "  <thead>\n",
       "    <tr style=\"text-align: right;\">\n",
       "      <th></th>\n",
       "      <th>sentiment</th>\n",
       "      <th>message</th>\n",
       "      <th>tweetid</th>\n",
       "    </tr>\n",
       "  </thead>\n",
       "  <tbody>\n",
       "    <tr>\n",
       "      <th>0</th>\n",
       "      <td>1</td>\n",
       "      <td>PolySciMajor EPA chief doesn't think carbon di...</td>\n",
       "      <td>625221</td>\n",
       "    </tr>\n",
       "    <tr>\n",
       "      <th>1</th>\n",
       "      <td>1</td>\n",
       "      <td>It's not like we lack evidence of anthropogeni...</td>\n",
       "      <td>126103</td>\n",
       "    </tr>\n",
       "    <tr>\n",
       "      <th>2</th>\n",
       "      <td>2</td>\n",
       "      <td>RT @RawStory: Researchers say we have three ye...</td>\n",
       "      <td>698562</td>\n",
       "    </tr>\n",
       "    <tr>\n",
       "      <th>3</th>\n",
       "      <td>1</td>\n",
       "      <td>#TodayinMaker# WIRED : 2016 was a pivotal year...</td>\n",
       "      <td>573736</td>\n",
       "    </tr>\n",
       "    <tr>\n",
       "      <th>4</th>\n",
       "      <td>1</td>\n",
       "      <td>RT @SoyNovioDeTodas: It's 2016, and a racist, ...</td>\n",
       "      <td>466954</td>\n",
       "    </tr>\n",
       "  </tbody>\n",
       "</table>\n",
       "</div>"
      ],
      "text/plain": [
       "   sentiment                                            message  tweetid\n",
       "0          1  PolySciMajor EPA chief doesn't think carbon di...   625221\n",
       "1          1  It's not like we lack evidence of anthropogeni...   126103\n",
       "2          2  RT @RawStory: Researchers say we have three ye...   698562\n",
       "3          1  #TodayinMaker# WIRED : 2016 was a pivotal year...   573736\n",
       "4          1  RT @SoyNovioDeTodas: It's 2016, and a racist, ...   466954"
      ]
     },
     "execution_count": 4,
     "metadata": {},
     "output_type": "execute_result"
    }
   ],
   "source": [
    "# load the data\n",
    "df_train = pd.read_csv('train.csv')\n",
    "df_test = pd.read_csv('test_with_no_labels.csv')\n",
    "df_train.head()"
   ]
  },
  {
   "cell_type": "code",
   "execution_count": 5,
   "id": "65de8ed6",
   "metadata": {},
   "outputs": [
    {
     "data": {
      "text/html": [
       "<div>\n",
       "<style scoped>\n",
       "    .dataframe tbody tr th:only-of-type {\n",
       "        vertical-align: middle;\n",
       "    }\n",
       "\n",
       "    .dataframe tbody tr th {\n",
       "        vertical-align: top;\n",
       "    }\n",
       "\n",
       "    .dataframe thead th {\n",
       "        text-align: right;\n",
       "    }\n",
       "</style>\n",
       "<table border=\"1\" class=\"dataframe\">\n",
       "  <thead>\n",
       "    <tr style=\"text-align: right;\">\n",
       "      <th></th>\n",
       "      <th>message</th>\n",
       "      <th>tweetid</th>\n",
       "    </tr>\n",
       "  </thead>\n",
       "  <tbody>\n",
       "    <tr>\n",
       "      <th>0</th>\n",
       "      <td>Europe will now be looking to China to make su...</td>\n",
       "      <td>169760</td>\n",
       "    </tr>\n",
       "    <tr>\n",
       "      <th>1</th>\n",
       "      <td>Combine this with the polling of staffers re c...</td>\n",
       "      <td>35326</td>\n",
       "    </tr>\n",
       "    <tr>\n",
       "      <th>2</th>\n",
       "      <td>The scary, unimpeachable evidence that climate...</td>\n",
       "      <td>224985</td>\n",
       "    </tr>\n",
       "    <tr>\n",
       "      <th>3</th>\n",
       "      <td>@Karoli @morgfair @OsborneInk @dailykos \\nPuti...</td>\n",
       "      <td>476263</td>\n",
       "    </tr>\n",
       "    <tr>\n",
       "      <th>4</th>\n",
       "      <td>RT @FakeWillMoore: 'Female orgasms cause globa...</td>\n",
       "      <td>872928</td>\n",
       "    </tr>\n",
       "  </tbody>\n",
       "</table>\n",
       "</div>"
      ],
      "text/plain": [
       "                                             message  tweetid\n",
       "0  Europe will now be looking to China to make su...   169760\n",
       "1  Combine this with the polling of staffers re c...    35326\n",
       "2  The scary, unimpeachable evidence that climate...   224985\n",
       "3  @Karoli @morgfair @OsborneInk @dailykos \\nPuti...   476263\n",
       "4  RT @FakeWillMoore: 'Female orgasms cause globa...   872928"
      ]
     },
     "execution_count": 5,
     "metadata": {},
     "output_type": "execute_result"
    }
   ],
   "source": [
    "df_test.head()"
   ]
  },
  {
   "cell_type": "markdown",
   "id": "81132ab3",
   "metadata": {},
   "source": [
    "<a id=\"three\"></a>\n",
    "## 3. Exploratory Data Analysis (EDA)\n",
    "<a class=\"anchor\" id=\"1.1\"></a>\n",
    "<a href=#cont>Back to Table of Contents</a>\n",
    "\n",
    "---\n",
    "    \n",
    "| ⚡ Description: Exploratory data analysis ⚡ |\n",
    "| :--------------------------- |\n",
    "| In this section, you are required to perform an in-depth analysis of all the variables in the DataFrame. |\n",
    "\n",
    "---\n"
   ]
  },
  {
   "cell_type": "markdown",
   "id": "0d4a28fc",
   "metadata": {},
   "source": [
    "In the exploratory data analysis, the following questions will be answered to get insights from the dataset:\n",
    "\n",
    "What kind of data is this? (number of columns present & datatypes present in the dataset)\n",
    "\n",
    "Are there any missing values?\n",
    "\n",
    "Are there any duplicated values\n",
    "\n",
    "Is there any relationship between different independent variables of the dataset? If yes then how strong is that relationship?\n"
   ]
  },
  {
   "cell_type": "code",
   "execution_count": 6,
   "id": "e805134e",
   "metadata": {
    "ExecuteTime": {
     "end_time": "2021-06-28T08:52:37.824204Z",
     "start_time": "2021-06-28T08:52:37.811206Z"
    }
   },
   "outputs": [
    {
     "data": {
      "text/html": [
       "<div>\n",
       "<style scoped>\n",
       "    .dataframe tbody tr th:only-of-type {\n",
       "        vertical-align: middle;\n",
       "    }\n",
       "\n",
       "    .dataframe tbody tr th {\n",
       "        vertical-align: top;\n",
       "    }\n",
       "\n",
       "    .dataframe thead th {\n",
       "        text-align: right;\n",
       "    }\n",
       "</style>\n",
       "<table border=\"1\" class=\"dataframe\">\n",
       "  <thead>\n",
       "    <tr style=\"text-align: right;\">\n",
       "      <th></th>\n",
       "      <th>sentiment</th>\n",
       "      <th>message</th>\n",
       "      <th>tweetid</th>\n",
       "    </tr>\n",
       "  </thead>\n",
       "  <tbody>\n",
       "    <tr>\n",
       "      <th>0</th>\n",
       "      <td>False</td>\n",
       "      <td>False</td>\n",
       "      <td>False</td>\n",
       "    </tr>\n",
       "    <tr>\n",
       "      <th>1</th>\n",
       "      <td>False</td>\n",
       "      <td>False</td>\n",
       "      <td>False</td>\n",
       "    </tr>\n",
       "    <tr>\n",
       "      <th>2</th>\n",
       "      <td>False</td>\n",
       "      <td>False</td>\n",
       "      <td>False</td>\n",
       "    </tr>\n",
       "    <tr>\n",
       "      <th>3</th>\n",
       "      <td>False</td>\n",
       "      <td>False</td>\n",
       "      <td>False</td>\n",
       "    </tr>\n",
       "    <tr>\n",
       "      <th>4</th>\n",
       "      <td>False</td>\n",
       "      <td>False</td>\n",
       "      <td>False</td>\n",
       "    </tr>\n",
       "    <tr>\n",
       "      <th>...</th>\n",
       "      <td>...</td>\n",
       "      <td>...</td>\n",
       "      <td>...</td>\n",
       "    </tr>\n",
       "    <tr>\n",
       "      <th>15814</th>\n",
       "      <td>False</td>\n",
       "      <td>False</td>\n",
       "      <td>False</td>\n",
       "    </tr>\n",
       "    <tr>\n",
       "      <th>15815</th>\n",
       "      <td>False</td>\n",
       "      <td>False</td>\n",
       "      <td>False</td>\n",
       "    </tr>\n",
       "    <tr>\n",
       "      <th>15816</th>\n",
       "      <td>False</td>\n",
       "      <td>False</td>\n",
       "      <td>False</td>\n",
       "    </tr>\n",
       "    <tr>\n",
       "      <th>15817</th>\n",
       "      <td>False</td>\n",
       "      <td>False</td>\n",
       "      <td>False</td>\n",
       "    </tr>\n",
       "    <tr>\n",
       "      <th>15818</th>\n",
       "      <td>False</td>\n",
       "      <td>False</td>\n",
       "      <td>False</td>\n",
       "    </tr>\n",
       "  </tbody>\n",
       "</table>\n",
       "<p>15819 rows × 3 columns</p>\n",
       "</div>"
      ],
      "text/plain": [
       "       sentiment  message  tweetid\n",
       "0          False    False    False\n",
       "1          False    False    False\n",
       "2          False    False    False\n",
       "3          False    False    False\n",
       "4          False    False    False\n",
       "...          ...      ...      ...\n",
       "15814      False    False    False\n",
       "15815      False    False    False\n",
       "15816      False    False    False\n",
       "15817      False    False    False\n",
       "15818      False    False    False\n",
       "\n",
       "[15819 rows x 3 columns]"
      ]
     },
     "execution_count": 6,
     "metadata": {},
     "output_type": "execute_result"
    }
   ],
   "source": [
    "df_train.isnull()\n",
    "#True = value is null"
   ]
  },
  {
   "cell_type": "markdown",
   "id": "7f9e9b03",
   "metadata": {},
   "source": [
    "# Target Variable Analysis"
   ]
  },
  {
   "cell_type": "markdown",
   "id": "6c0c9aae",
   "metadata": {},
   "source": [
    "For the target variable analysis, the main focus will be on the distribution. The goal is to find out how the sentiment is distributed in our dataset, e.g., which sentiment has the highest value count, etc.\n",
    "\n",
    "Thus the following will be explored:\n",
    "\n",
    "summary statistics\n",
    "\n",
    "sentiment data sample count\n",
    "\n",
    "distribution of sentiment"
   ]
  },
  {
   "cell_type": "code",
   "execution_count": 7,
   "id": "2ea77a8d",
   "metadata": {},
   "outputs": [
    {
     "data": {
      "text/plain": [
       "array([ 1,  2,  0, -1], dtype=int64)"
      ]
     },
     "execution_count": 7,
     "metadata": {},
     "output_type": "execute_result"
    }
   ],
   "source": [
    "#checking unique target values\n",
    "df_train['sentiment'].unique()"
   ]
  },
  {
   "cell_type": "code",
   "execution_count": 8,
   "id": "31659bf7",
   "metadata": {},
   "outputs": [
    {
     "data": {
      "text/html": [
       "<div>\n",
       "<style scoped>\n",
       "    .dataframe tbody tr th:only-of-type {\n",
       "        vertical-align: middle;\n",
       "    }\n",
       "\n",
       "    .dataframe tbody tr th {\n",
       "        vertical-align: top;\n",
       "    }\n",
       "\n",
       "    .dataframe thead th {\n",
       "        text-align: right;\n",
       "    }\n",
       "</style>\n",
       "<table border=\"1\" class=\"dataframe\">\n",
       "  <thead>\n",
       "    <tr style=\"text-align: right;\">\n",
       "      <th></th>\n",
       "      <th>count</th>\n",
       "      <th>mean</th>\n",
       "      <th>std</th>\n",
       "      <th>min</th>\n",
       "      <th>25%</th>\n",
       "      <th>50%</th>\n",
       "      <th>75%</th>\n",
       "      <th>max</th>\n",
       "    </tr>\n",
       "  </thead>\n",
       "  <tbody>\n",
       "    <tr>\n",
       "      <th>sentiment</th>\n",
       "      <td>15819.0</td>\n",
       "      <td>0.917504</td>\n",
       "      <td>0.836537</td>\n",
       "      <td>-1.0</td>\n",
       "      <td>1.0</td>\n",
       "      <td>1.0</td>\n",
       "      <td>1.0</td>\n",
       "      <td>2.0</td>\n",
       "    </tr>\n",
       "  </tbody>\n",
       "</table>\n",
       "</div>"
      ],
      "text/plain": [
       "             count      mean       std  min  25%  50%  75%  max\n",
       "sentiment  15819.0  0.917504  0.836537 -1.0  1.0  1.0  1.0  2.0"
      ]
     },
     "execution_count": 8,
     "metadata": {},
     "output_type": "execute_result"
    }
   ],
   "source": [
    "#Summary statistics\n",
    "\n",
    "df_train[['sentiment']].describe().T"
   ]
  },
  {
   "cell_type": "code",
   "execution_count": 9,
   "id": "90b09f84",
   "metadata": {},
   "outputs": [
    {
     "data": {
      "image/png": "[encoded data removed]",
      "text/plain": [
       "<Figure size 700x500 with 1 Axes>"
      ]
     },
     "metadata": {},
     "output_type": "display_data"
    }
   ],
   "source": [
    "# Plotting sentiment data sample count\n",
    "\n",
    "plt.figure(figsize=(7,5))\n",
    "df_train['sentiment'].value_counts().plot(kind = 'bar', title='Sentiment Data Sample Count', color='steelblue')\n",
    "plt.xlabel('Sentiment(Class)')\n",
    "plt.ylabel(\"Count of data samples\")\n",
    "plt.show()\n"
   ]
  },
  {
   "cell_type": "code",
   "execution_count": 10,
   "id": "0657cfe2",
   "metadata": {},
   "outputs": [
    {
     "data": {
      "text/plain": [
       "<AxesSubplot:title={'center':'Distribution of sentiment'}, ylabel='sentiment'>"
      ]
     },
     "execution_count": 10,
     "metadata": {},
     "output_type": "execute_result"
    },
    {
     "data": {
      "image/png": "[encoded data removed]",
      "text/plain": [
       "<Figure size 1000x1000 with 1 Axes>"
      ]
     },
     "metadata": {},
     "output_type": "display_data"
    }
   ],
   "source": [
    "#plotting donut chart to see sentiment distribution\n",
    "\n",
    "plt.figure(figsize=(10,10))\n",
    "plt.title('Distribution of sentiment', fontsize=15)\n",
    "plt.savefig(\"sentimentdonutchart.png\")\n",
    "df_train.sentiment.value_counts().plot(kind='pie', labels=['1(Pro)', '2(News)', '0(Neutral)', '-1(Anti)'],\n",
    "                              wedgeprops=dict(width=.5), autopct='%1.0f%%', startangle= 70, \n",
    "                              textprops={'fontsize': 15})"
   ]
  },
  {
   "cell_type": "markdown",
   "id": "6cf82756",
   "metadata": {},
   "source": [
    "As seen above on the donut chart, majority of the tweets in the dataset indicate users who are believe in man-made climate change while the minority of the tweets are anti man-made climate change.\n",
    "\n",
    "For the data preprocessing, two hypotheses can be tested and explored to aid with the data modelling:\n",
    "\n",
    "1.Believers of man-made climate change tweet more about taking actions to fight the phenomenon and so one might find more words relating to positive action to be present in the tweets\n",
    "\n",
    "2.Climate change deniers use the term global warming much often than believers and use aggressive language and words such as \"fake\", etc."
   ]
  },
  {
   "cell_type": "markdown",
   "id": "7a716a35",
   "metadata": {},
   "source": [
    "# Tweet Analysis"
   ]
  },
  {
   "cell_type": "markdown",
   "id": "1e4ef6ce",
   "metadata": {},
   "source": [
    "According to the Twitter Help Center:\n",
    "\n",
    "\"A Retweet is a re-posting of a Tweet. Twitter's Retweet feature helps you and others quickly share that Tweet with all of your followers.\"\n",
    "\n",
    "Following the hypotheses stated in the target variable analysis, one can add on the following regarding retweets (RT):\n",
    "\n",
    "People who are pro the belief of man-made climate change, are more likely to retweet more than others. Their retweets can consist of factual news, web-urls, or even other believers' views.\n",
    "\n",
    "To explore that hypothesis, below will be an analysis of the number of retweeted posted per sentiment."
   ]
  },
  {
   "cell_type": "code",
   "execution_count": 11,
   "id": "2d34c6cc",
   "metadata": {},
   "outputs": [],
   "source": [
    "# Splitting the dataset according to sentiment\n",
    "\n",
    "pro = df_train[df_train['sentiment'] == 1]\n",
    "anti = df_train[df_train['sentiment'] == -1]\n",
    "neutral = df_train[df_train['sentiment'] == 0]\n",
    "news = df_train[df_train['sentiment'] == 2]"
   ]
  },
  {
   "cell_type": "code",
   "execution_count": 12,
   "id": "7e151b1d",
   "metadata": {},
   "outputs": [],
   "source": [
    "# pro rt search \n",
    "\n",
    "substring = 'RT'\n",
    "pro_rt = pro[pro.apply(lambda row: row.astype(str).str.contains(substring, case=False).any(), axis=1)]\n",
    "anti_rt = anti[anti.apply(lambda row: row.astype(str).str.contains(substring, case=False).any(), axis=1)]\n",
    "neutral_rt = neutral[neutral.apply(lambda row: row.astype(str).str.contains(substring, case=False).any(), axis=1)]\n",
    "news_rt = news[news.apply(lambda row: row.astype(str).str.contains(substring, case=False).any(), axis=1)]"
   ]
  },
  {
   "cell_type": "code",
   "execution_count": 13,
   "id": "103b1873",
   "metadata": {},
   "outputs": [
    {
     "data": {
      "text/plain": [
       "(10628, 3)"
      ]
     },
     "execution_count": 13,
     "metadata": {},
     "output_type": "execute_result"
    }
   ],
   "source": [
    "#combining the retweet data frames into one subdataframe\n",
    "\n",
    "RT_data = pd.concat([pro_rt, anti_rt, neutral_rt, news_rt])\n",
    "RT_data.shape"
   ]
  },
  {
   "cell_type": "code",
   "execution_count": 14,
   "id": "19c4bf96",
   "metadata": {},
   "outputs": [
    {
     "data": {
      "image/png": "[encoded data removed]",
      "text/plain": [
       "<Figure size 700x500 with 1 Axes>"
      ]
     },
     "metadata": {},
     "output_type": "display_data"
    }
   ],
   "source": [
    "# Plotting sentiment data sample count\n",
    "\n",
    "plt.figure(figsize=(7,5))\n",
    "RT_data['sentiment'].value_counts().plot(kind = 'bar', title='Number of Retweets per Sentiment', color='steelblue')\n",
    "plt.xlabel('Sentiment(Class)')\n",
    "plt.ylabel(\"Count of data samples\")\n",
    "plt.show()"
   ]
  },
  {
   "cell_type": "markdown",
   "id": "a7c717a8",
   "metadata": {},
   "source": [
    "As suspected, sentiment class 1(Pro) has the highest number of retweets compared to all the other classes."
   ]
  },
  {
   "cell_type": "code",
   "execution_count": 15,
   "id": "75512df4",
   "metadata": {},
   "outputs": [
    {
     "data": {
      "image/png": "[encoded data removed]",
      "text/plain": [
       "<Figure size 700x700 with 1 Axes>"
      ]
     },
     "metadata": {},
     "output_type": "display_data"
    }
   ],
   "source": [
    "#Plotting pie chart to see distribution of retweets per sentiment\n",
    "\n",
    "plt.figure(figsize = (7, 7))\n",
    "plt.pie(RT_data.sentiment.value_counts().values, labels=['Pro', 'News', 'Neutral', 'Anti'], \n",
    "        autopct = '%2.1f%%', textprops={'fontsize': 15})\n",
    "plt.title('Retweets per Sentiment', fontsize=20)\n",
    "plt.tight_layout()\n",
    "plt.show()"
   ]
  },
  {
   "cell_type": "markdown",
   "id": "4aeccea8",
   "metadata": {},
   "source": [
    "This analysis has proven the retweet hypothesis to be true and has shared insight on what steps to consider or what steps to leave out during the data cleaning stage."
   ]
  },
  {
   "cell_type": "markdown",
   "id": "f297466d",
   "metadata": {},
   "source": [
    "# Data Preprocessing"
   ]
  },
  {
   "cell_type": "markdown",
   "id": "a151783d",
   "metadata": {},
   "source": [
    "A copy of the dataset will be made as a safety precaution."
   ]
  },
  {
   "cell_type": "code",
   "execution_count": 16,
   "id": "3182a1b2",
   "metadata": {},
   "outputs": [],
   "source": [
    "df = df_train.copy()\n",
    "dft = df_test.copy()"
   ]
  },
  {
   "cell_type": "markdown",
   "id": "285ebd32",
   "metadata": {},
   "source": [
    "# Text Cleaning"
   ]
  },
  {
   "cell_type": "markdown",
   "id": "7ffd7612",
   "metadata": {},
   "source": [
    "In context of text analytics, removing noise is a vital part of getting the data into a usable format. For the train dataset, the following will be done:\n",
    "\n",
    "removing '@'-mentions\n",
    "\n",
    "removing the web-urls\n",
    "\n",
    "making everything lower case\n",
    "\n",
    "removing punctuation\n",
    "\n",
    "removing digits and words containing digits\n",
    "\n",
    "removing hashtags, emojis, and unknown characters\n",
    "\n",
    "Once that is complete, the data will be ready for further analysis and text feature engineering."
   ]
  },
  {
   "cell_type": "markdown",
   "id": "ed609b22",
   "metadata": {},
   "source": [
    "# Removing @ mentions"
   ]
  },
  {
   "cell_type": "code",
   "execution_count": 17,
   "id": "53ae0ea7",
   "metadata": {},
   "outputs": [],
   "source": [
    "# Removing mentions\n",
    "\n",
    "def remove_mentions(input_text, pattern):\n",
    "    '''\n",
    "    This function serves to remove any mentions denoted by \n",
    "    the @ symbol, followed by the twitter handle.\n",
    "    '''\n",
    "    r_find = re.findall(pattern, input_text)\n",
    "    for word in r_find:\n",
    "        input_text = re.sub(word, '',input_text)\n",
    "    return input_text"
   ]
  },
  {
   "cell_type": "code",
   "execution_count": 18,
   "id": "74cfd74a",
   "metadata": {},
   "outputs": [
    {
     "data": {
      "text/html": [
       "<div>\n",
       "<style scoped>\n",
       "    .dataframe tbody tr th:only-of-type {\n",
       "        vertical-align: middle;\n",
       "    }\n",
       "\n",
       "    .dataframe tbody tr th {\n",
       "        vertical-align: top;\n",
       "    }\n",
       "\n",
       "    .dataframe thead th {\n",
       "        text-align: right;\n",
       "    }\n",
       "</style>\n",
       "<table border=\"1\" class=\"dataframe\">\n",
       "  <thead>\n",
       "    <tr style=\"text-align: right;\">\n",
       "      <th></th>\n",
       "      <th>message</th>\n",
       "    </tr>\n",
       "  </thead>\n",
       "  <tbody>\n",
       "    <tr>\n",
       "      <th>0</th>\n",
       "      <td>PolySciMajor EPA chief doesn't think carbon di...</td>\n",
       "    </tr>\n",
       "    <tr>\n",
       "      <th>1</th>\n",
       "      <td>It's not like we lack evidence of anthropogeni...</td>\n",
       "    </tr>\n",
       "    <tr>\n",
       "      <th>2</th>\n",
       "      <td>RT : Researchers say we have three years to ac...</td>\n",
       "    </tr>\n",
       "    <tr>\n",
       "      <th>3</th>\n",
       "      <td>#TodayinMaker# WIRED : 2016 was a pivotal year...</td>\n",
       "    </tr>\n",
       "    <tr>\n",
       "      <th>4</th>\n",
       "      <td>RT : It's 2016, and a racist, sexist, climate ...</td>\n",
       "    </tr>\n",
       "  </tbody>\n",
       "</table>\n",
       "</div>"
      ],
      "text/plain": [
       "                                             message\n",
       "0  PolySciMajor EPA chief doesn't think carbon di...\n",
       "1  It's not like we lack evidence of anthropogeni...\n",
       "2  RT : Researchers say we have three years to ac...\n",
       "3  #TodayinMaker# WIRED : 2016 was a pivotal year...\n",
       "4  RT : It's 2016, and a racist, sexist, climate ..."
      ]
     },
     "execution_count": 18,
     "metadata": {},
     "output_type": "execute_result"
    }
   ],
   "source": [
    "df['message'] = np.vectorize(remove_mentions)(df['message'],'@[\\w]*')\n",
    "df[['message']].head()"
   ]
  },
  {
   "cell_type": "markdown",
   "id": "7f8b0330",
   "metadata": {},
   "source": [
    "# Removing web-urls"
   ]
  },
  {
   "cell_type": "code",
   "execution_count": 19,
   "id": "a66f7517",
   "metadata": {},
   "outputs": [],
   "source": [
    "#removing web-urls\n",
    "\n",
    "pattern_url = r'http[s]?://(?:[A-Za-z]|[0-9]|[$-_@.&+]|[!*\\(\\),]|(?:%[0-9A-Fa-f][0-9A-Fa-f]))+'\n",
    "subs_url = r''\n",
    "df['message'] = df['message'].replace(to_replace = pattern_url, value = subs_url, regex = True)"
   ]
  },
  {
   "cell_type": "code",
   "execution_count": 20,
   "id": "16632141",
   "metadata": {},
   "outputs": [],
   "source": [
    "#removing remaining https\n",
    "\n",
    "pattern_url = r'https?:\\/\\/.*\\/\\w*'\n",
    "subs_url = r''\n",
    "df['message'] = df['message'].replace(to_replace = pattern_url, value = subs_url, regex = True)"
   ]
  },
  {
   "cell_type": "markdown",
   "id": "da53cf65",
   "metadata": {},
   "source": [
    "# Tweet Cleaner Function"
   ]
  },
  {
   "cell_type": "code",
   "execution_count": 21,
   "id": "e3df3663",
   "metadata": {},
   "outputs": [],
   "source": [
    "def tweet_cleaner(tweet):\n",
    "    \n",
    "    \"\"\"\n",
    "    This function is necessary to remove punctuation, hashtags, \n",
    "    numbers and any extra white space from tweets after converting \n",
    "    everything to lowercase letters.\n",
    "    \n",
    "    \"\"\"\n",
    "    # Convert everything to lowercase\n",
    "    tweet = tweet.lower() \n",
    "    \n",
    "    # Remove punctuation\n",
    "    tweet = re.sub(r\"[,.;':@#?!\\&/$]+\\ *\", ' ', tweet)\n",
    "    \n",
    "    # Remove hashtags\n",
    "    tweet = re.sub(r'#\\w*', '', tweet)    \n",
    "    \n",
    "    # Remove numbers\n",
    "    tweet = re.sub(r'\\d+', '', tweet)  \n",
    "    \n",
    "    # Remove whitespace in front of tweet\n",
    "    tweet = tweet.lstrip(' ')   \n",
    "    \n",
    "    # Remove extra whitespace\n",
    "    tweet = re.sub(r'\\s\\s+', ' ', tweet)\n",
    "                          \n",
    "    \n",
    "    return tweet"
   ]
  },
  {
   "cell_type": "code",
   "execution_count": 22,
   "id": "e8c3e28b",
   "metadata": {},
   "outputs": [
    {
     "data": {
      "text/html": [
       "<div>\n",
       "<style scoped>\n",
       "    .dataframe tbody tr th:only-of-type {\n",
       "        vertical-align: middle;\n",
       "    }\n",
       "\n",
       "    .dataframe tbody tr th {\n",
       "        vertical-align: top;\n",
       "    }\n",
       "\n",
       "    .dataframe thead th {\n",
       "        text-align: right;\n",
       "    }\n",
       "</style>\n",
       "<table border=\"1\" class=\"dataframe\">\n",
       "  <thead>\n",
       "    <tr style=\"text-align: right;\">\n",
       "      <th></th>\n",
       "      <th>sentiment</th>\n",
       "      <th>message</th>\n",
       "      <th>tweetid</th>\n",
       "    </tr>\n",
       "  </thead>\n",
       "  <tbody>\n",
       "    <tr>\n",
       "      <th>0</th>\n",
       "      <td>1</td>\n",
       "      <td>polyscimajor epa chief doesn t think carbon di...</td>\n",
       "      <td>625221</td>\n",
       "    </tr>\n",
       "    <tr>\n",
       "      <th>1</th>\n",
       "      <td>1</td>\n",
       "      <td>it s not like we lack evidence of anthropogeni...</td>\n",
       "      <td>126103</td>\n",
       "    </tr>\n",
       "    <tr>\n",
       "      <th>2</th>\n",
       "      <td>2</td>\n",
       "      <td>rt researchers say we have three years to act ...</td>\n",
       "      <td>698562</td>\n",
       "    </tr>\n",
       "    <tr>\n",
       "      <th>3</th>\n",
       "      <td>1</td>\n",
       "      <td>todayinmaker wired was a pivotal year in the w...</td>\n",
       "      <td>573736</td>\n",
       "    </tr>\n",
       "    <tr>\n",
       "      <th>4</th>\n",
       "      <td>1</td>\n",
       "      <td>rt it s and a racist sexist climate change den...</td>\n",
       "      <td>466954</td>\n",
       "    </tr>\n",
       "  </tbody>\n",
       "</table>\n",
       "</div>"
      ],
      "text/plain": [
       "   sentiment                                            message  tweetid\n",
       "0          1  polyscimajor epa chief doesn t think carbon di...   625221\n",
       "1          1  it s not like we lack evidence of anthropogeni...   126103\n",
       "2          2  rt researchers say we have three years to act ...   698562\n",
       "3          1  todayinmaker wired was a pivotal year in the w...   573736\n",
       "4          1  rt it s and a racist sexist climate change den...   466954"
      ]
     },
     "execution_count": 22,
     "metadata": {},
     "output_type": "execute_result"
    }
   ],
   "source": [
    "df['message'] = df['message'].apply(tweet_cleaner)\n",
    "df.head()"
   ]
  },
  {
   "cell_type": "markdown",
   "id": "05e580f4",
   "metadata": {},
   "source": [
    "# Replacing \"rt\" with \"retweet\""
   ]
  },
  {
   "cell_type": "code",
   "execution_count": 23,
   "id": "3266c4e0",
   "metadata": {},
   "outputs": [
    {
     "data": {
      "text/html": [
       "<div>\n",
       "<style scoped>\n",
       "    .dataframe tbody tr th:only-of-type {\n",
       "        vertical-align: middle;\n",
       "    }\n",
       "\n",
       "    .dataframe tbody tr th {\n",
       "        vertical-align: top;\n",
       "    }\n",
       "\n",
       "    .dataframe thead th {\n",
       "        text-align: right;\n",
       "    }\n",
       "</style>\n",
       "<table border=\"1\" class=\"dataframe\">\n",
       "  <thead>\n",
       "    <tr style=\"text-align: right;\">\n",
       "      <th></th>\n",
       "      <th>sentiment</th>\n",
       "      <th>message</th>\n",
       "      <th>tweetid</th>\n",
       "    </tr>\n",
       "  </thead>\n",
       "  <tbody>\n",
       "    <tr>\n",
       "      <th>0</th>\n",
       "      <td>1</td>\n",
       "      <td>polyscimajor epa chief doesn t think carbon di...</td>\n",
       "      <td>625221</td>\n",
       "    </tr>\n",
       "    <tr>\n",
       "      <th>1</th>\n",
       "      <td>1</td>\n",
       "      <td>it s not like we lack evidence of anthropogeni...</td>\n",
       "      <td>126103</td>\n",
       "    </tr>\n",
       "    <tr>\n",
       "      <th>2</th>\n",
       "      <td>2</td>\n",
       "      <td>retweet researchers say we have three years to...</td>\n",
       "      <td>698562</td>\n",
       "    </tr>\n",
       "    <tr>\n",
       "      <th>3</th>\n",
       "      <td>1</td>\n",
       "      <td>todayinmaker wired was a pivotal year in the w...</td>\n",
       "      <td>573736</td>\n",
       "    </tr>\n",
       "    <tr>\n",
       "      <th>4</th>\n",
       "      <td>1</td>\n",
       "      <td>retweet it s and a racist sexist climate chang...</td>\n",
       "      <td>466954</td>\n",
       "    </tr>\n",
       "  </tbody>\n",
       "</table>\n",
       "</div>"
      ],
      "text/plain": [
       "   sentiment                                            message  tweetid\n",
       "0          1  polyscimajor epa chief doesn t think carbon di...   625221\n",
       "1          1  it s not like we lack evidence of anthropogeni...   126103\n",
       "2          2  retweet researchers say we have three years to...   698562\n",
       "3          1  todayinmaker wired was a pivotal year in the w...   573736\n",
       "4          1  retweet it s and a racist sexist climate chang...   466954"
      ]
     },
     "execution_count": 23,
     "metadata": {},
     "output_type": "execute_result"
    }
   ],
   "source": [
    "pattern_url = r'rt\\s'\n",
    "subs_url = r'retweet '\n",
    "df['message'] = df['message'].replace(to_replace = pattern_url, value = subs_url, regex = True)\n",
    "df.head()"
   ]
  },
  {
   "cell_type": "markdown",
   "id": "aa217def",
   "metadata": {},
   "source": [
    "# Removing emojis"
   ]
  },
  {
   "cell_type": "code",
   "execution_count": 24,
   "id": "79e6873b",
   "metadata": {},
   "outputs": [],
   "source": [
    "def remove_emojis(string):\n",
    "    \n",
    "    \"\"\"\"\n",
    "    This function serves to remove emojis from the \n",
    "    tweets in the data.\n",
    "    \n",
    "    \"\"\"\n",
    "    \n",
    "    emoj = re.compile(\"[\"\n",
    "        u\"\\U0001F600-\\U0001F64F\"  # emoticons\n",
    "        u\"\\U0001F300-\\U0001F5FF\"  # symbols & pictographs\n",
    "        u\"\\U0001F680-\\U0001F6FF\"  # transport & map symbols\n",
    "        u\"\\U0001F1E0-\\U0001F1FF\"  # flags (iOS)\n",
    "        u\"\\U00002500-\\U00002BEF\"  # chinese char\n",
    "        u\"\\U00002702-\\U000027B0\"\n",
    "        u\"\\U00002702-\\U000027B0\"\n",
    "        u\"\\U000024C2-\\U0001F251\"\n",
    "        u\"\\U0001f926-\\U0001f937\"\n",
    "        u\"\\U00010000-\\U0010ffff\"\n",
    "        u\"\\u2640-\\u2642\" \n",
    "        u\"\\u2600-\\u2B55\"\n",
    "        u\"\\u200d\"\n",
    "        u\"\\u23cf\"\n",
    "        u\"\\u23e9\"\n",
    "        u\"\\u231a\"\n",
    "        u\"\\ufe0f\"  # dingbats\n",
    "        u\"\\u3030\"\n",
    "                      \"]+\", re.UNICODE)\n",
    "    return re.sub(emoj, '', string)"
   ]
  },
  {
   "cell_type": "code",
   "execution_count": 25,
   "id": "825c7adc",
   "metadata": {},
   "outputs": [],
   "source": [
    "df['message'] = df['message'].apply(remove_emojis)"
   ]
  },
  {
   "cell_type": "markdown",
   "id": "539fac08",
   "metadata": {},
   "source": [
    "# Removing unknown characters "
   ]
  },
  {
   "cell_type": "code",
   "execution_count": 26,
   "id": "18c13fe3",
   "metadata": {},
   "outputs": [],
   "source": [
    "#removing the uknown charecters from words\n",
    "\n",
    "pattern_url = r'[^A-Za-z ]'\n",
    "subs_url = r''\n",
    "df['message'] = df['message'].replace(to_replace = pattern_url, value = subs_url, regex = True)"
   ]
  },
  {
   "cell_type": "markdown",
   "id": "beba6fee",
   "metadata": {},
   "source": [
    "# Stopwords removal"
   ]
  },
  {
   "cell_type": "markdown",
   "id": "8c7829d1",
   "metadata": {},
   "source": [
    "Stopwords are the most common words in any natural language. For the purpose of analyzing text data and building NLP models, these stopwords might not add much value to the meaning of the document.\n",
    "\n",
    "Generally, the most common words used in a text are “the”, “is”, “in”, “for”, “where”, “when”, “to”, “at” etc.\n",
    "\n",
    "For this classification task, removing stopwords will help so that more focus can be given to those words which define the meaning of the text. Some stop words give context to the meaning of the word that follows. In this case, instead of removing all words, a list of stopwords wished to be removed will be defined and to be used in a function to remove stopwords."
   ]
  },
  {
   "cell_type": "code",
   "execution_count": 27,
   "id": "7d1ba472",
   "metadata": {},
   "outputs": [],
   "source": [
    "#Defining the list of stopword wished to be removed. \n",
    "\n",
    "stopwordlist = ['a', 'about', 'above', 'after', 'again', 'ain', 'all', 'am', 'an',\n",
    "             'and','any','are', 'as', 'at', 'be', 'because', 'been', 'before',\n",
    "             'being', 'below', 'between','both', 'but', 'by', 'can', 'd', 'did',\n",
    "             'does', 'doesn', 'doing', 'down', 'during', 'each','few', 'for', 'from',\n",
    "             'further', 'had', 'has', 'have', 'having', 'he', 'her', 'here',\n",
    "             'hers', 'herself', 'him', 'himself', 'his', 'how', 'i', 'if', 'in',\n",
    "             'into','is', 'it', 'its', 'itself', 'just', 'll', 'm', 'ma',\n",
    "             'me', 'more', 'most','my', 'myself', 'now', 'o', 'of', 'on', 'once',\n",
    "             'only', 'or', 'other', 'our', 'ours','ourselves', 'out', 'own', 're',\n",
    "             's', 'shan', \"shan't\", 'she', \"shes\", 'should', 'shouldve','so', 'some', 'such',\n",
    "             't', 'than', 'that', 'thatll', 'the', 'their', 'theirs', 'them',\n",
    "             'themselves', 'then', 'there', 'these', 'they', 'this', 'those',\n",
    "             'through', 'to', 'too','under', 'until', 'up', 've', 'very', 'wa', 'was',\n",
    "             'we', 'were', 'what', 'when', 'where','which','while', 'who', 'whom',\n",
    "             'why', 'with', 'won', 'y', 'you', 'youd','youll', 'youre',\n",
    "             'you', 've', 'your', 'yours', 'yourself', 'yourselves']\n",
    "\n",
    "STOPWORDS = set(stopwordlist)\n",
    "def cleaning_stopwords(text):\n",
    "    return \" \".join([word for word in str(text).split() if word not in STOPWORDS])"
   ]
  },
  {
   "cell_type": "code",
   "execution_count": 28,
   "id": "d8f64206",
   "metadata": {},
   "outputs": [
    {
     "data": {
      "text/html": [
       "<div>\n",
       "<style scoped>\n",
       "    .dataframe tbody tr th:only-of-type {\n",
       "        vertical-align: middle;\n",
       "    }\n",
       "\n",
       "    .dataframe tbody tr th {\n",
       "        vertical-align: top;\n",
       "    }\n",
       "\n",
       "    .dataframe thead th {\n",
       "        text-align: right;\n",
       "    }\n",
       "</style>\n",
       "<table border=\"1\" class=\"dataframe\">\n",
       "  <thead>\n",
       "    <tr style=\"text-align: right;\">\n",
       "      <th></th>\n",
       "      <th>message</th>\n",
       "    </tr>\n",
       "  </thead>\n",
       "  <tbody>\n",
       "    <tr>\n",
       "      <th>0</th>\n",
       "      <td>polyscimajor epa chief think carbon dioxide ma...</td>\n",
       "    </tr>\n",
       "    <tr>\n",
       "      <th>1</th>\n",
       "      <td>not like lack evidence anthropogenic global wa...</td>\n",
       "    </tr>\n",
       "    <tr>\n",
       "      <th>2</th>\n",
       "      <td>retweet researchers say three years act climat...</td>\n",
       "    </tr>\n",
       "    <tr>\n",
       "      <th>3</th>\n",
       "      <td>todayinmaker wired pivotal year war climate ch...</td>\n",
       "    </tr>\n",
       "    <tr>\n",
       "      <th>4</th>\n",
       "      <td>retweet racist sexist climate change denying b...</td>\n",
       "    </tr>\n",
       "  </tbody>\n",
       "</table>\n",
       "</div>"
      ],
      "text/plain": [
       "                                             message\n",
       "0  polyscimajor epa chief think carbon dioxide ma...\n",
       "1  not like lack evidence anthropogenic global wa...\n",
       "2  retweet researchers say three years act climat...\n",
       "3  todayinmaker wired pivotal year war climate ch...\n",
       "4  retweet racist sexist climate change denying b..."
      ]
     },
     "execution_count": 28,
     "metadata": {},
     "output_type": "execute_result"
    }
   ],
   "source": [
    "df['message'] = df['message'].apply(lambda text: cleaning_stopwords(text))\n",
    "df[['message']].head()"
   ]
  },
  {
   "cell_type": "markdown",
   "id": "3fa93ec6",
   "metadata": {},
   "source": [
    "<a id=\"four\"></a>\n",
    "## 4. Feature Engineering\n",
    "<a class=\"anchor\" id=\"1.1\"></a>\n",
    "<a href=#cont>Back to Table of Contents</a>\n",
    "\n",
    "---\n",
    "    \n",
    "| ⚡ Description: Data engineering ⚡ |\n",
    "| :--------------------------- |\n",
    "| In this section you are required to: clean the dataset, and possibly create new features - as identified in the EDA phase. |\n",
    "\n",
    "---"
   ]
  },
  {
   "cell_type": "markdown",
   "id": "3fe29597",
   "metadata": {},
   "source": [
    "# Tokenisation"
   ]
  },
  {
   "cell_type": "markdown",
   "id": "d0f18b0c",
   "metadata": {},
   "source": [
    "Tokenization is a simple process that takes raw data and converts it into a useful data string. Tokenization is used in Natural Language Processing to split paragraphs and sentences into smaller units (i.e, tokens) that can be more easily assigned meaning."
   ]
  },
  {
   "cell_type": "code",
   "execution_count": 29,
   "id": "50c7dacc",
   "metadata": {},
   "outputs": [],
   "source": [
    "#Creating tokenised column\n",
    "\n",
    "tokeniser = TreebankWordTokenizer()\n",
    "df['token'] = df['message'].apply(tokeniser.tokenize)"
   ]
  },
  {
   "cell_type": "code",
   "execution_count": 30,
   "id": "df8ccd5a",
   "metadata": {},
   "outputs": [
    {
     "data": {
      "text/html": [
       "<div>\n",
       "<style scoped>\n",
       "    .dataframe tbody tr th:only-of-type {\n",
       "        vertical-align: middle;\n",
       "    }\n",
       "\n",
       "    .dataframe tbody tr th {\n",
       "        vertical-align: top;\n",
       "    }\n",
       "\n",
       "    .dataframe thead th {\n",
       "        text-align: right;\n",
       "    }\n",
       "</style>\n",
       "<table border=\"1\" class=\"dataframe\">\n",
       "  <thead>\n",
       "    <tr style=\"text-align: right;\">\n",
       "      <th></th>\n",
       "      <th>sentiment</th>\n",
       "      <th>message</th>\n",
       "      <th>tweetid</th>\n",
       "      <th>token</th>\n",
       "    </tr>\n",
       "  </thead>\n",
       "  <tbody>\n",
       "    <tr>\n",
       "      <th>0</th>\n",
       "      <td>1</td>\n",
       "      <td>polyscimajor epa chief think carbon dioxide ma...</td>\n",
       "      <td>625221</td>\n",
       "      <td>[polyscimajor, epa, chief, think, carbon, diox...</td>\n",
       "    </tr>\n",
       "    <tr>\n",
       "      <th>1</th>\n",
       "      <td>1</td>\n",
       "      <td>not like lack evidence anthropogenic global wa...</td>\n",
       "      <td>126103</td>\n",
       "      <td>[not, like, lack, evidence, anthropogenic, glo...</td>\n",
       "    </tr>\n",
       "    <tr>\n",
       "      <th>2</th>\n",
       "      <td>2</td>\n",
       "      <td>retweet researchers say three years act climat...</td>\n",
       "      <td>698562</td>\n",
       "      <td>[retweet, researchers, say, three, years, act,...</td>\n",
       "    </tr>\n",
       "    <tr>\n",
       "      <th>3</th>\n",
       "      <td>1</td>\n",
       "      <td>todayinmaker wired pivotal year war climate ch...</td>\n",
       "      <td>573736</td>\n",
       "      <td>[todayinmaker, wired, pivotal, year, war, clim...</td>\n",
       "    </tr>\n",
       "    <tr>\n",
       "      <th>4</th>\n",
       "      <td>1</td>\n",
       "      <td>retweet racist sexist climate change denying b...</td>\n",
       "      <td>466954</td>\n",
       "      <td>[retweet, racist, sexist, climate, change, den...</td>\n",
       "    </tr>\n",
       "  </tbody>\n",
       "</table>\n",
       "</div>"
      ],
      "text/plain": [
       "   sentiment                                            message  tweetid  \\\n",
       "0          1  polyscimajor epa chief think carbon dioxide ma...   625221   \n",
       "1          1  not like lack evidence anthropogenic global wa...   126103   \n",
       "2          2  retweet researchers say three years act climat...   698562   \n",
       "3          1  todayinmaker wired pivotal year war climate ch...   573736   \n",
       "4          1  retweet racist sexist climate change denying b...   466954   \n",
       "\n",
       "                                               token  \n",
       "0  [polyscimajor, epa, chief, think, carbon, diox...  \n",
       "1  [not, like, lack, evidence, anthropogenic, glo...  \n",
       "2  [retweet, researchers, say, three, years, act,...  \n",
       "3  [todayinmaker, wired, pivotal, year, war, clim...  \n",
       "4  [retweet, racist, sexist, climate, change, den...  "
      ]
     },
     "execution_count": 30,
     "metadata": {},
     "output_type": "execute_result"
    }
   ],
   "source": [
    "df.head()"
   ]
  },
  {
   "cell_type": "markdown",
   "id": "1b827d38",
   "metadata": {},
   "source": [
    "# Lemmatization"
   ]
  },
  {
   "cell_type": "markdown",
   "id": "02584d58",
   "metadata": {},
   "source": [
    "Lemmatization is an organized & step-by-step procedure of obtaining the root form of the word. It makes use of vocabulary (dictionary importance of words) and morphological analysis (word structure and grammar relations).\n",
    "\n",
    "To make the text in the dataset understandable for the machine, lemmatization needs to be performed."
   ]
  },
  {
   "cell_type": "code",
   "execution_count": 31,
   "id": "0a2908c7",
   "metadata": {},
   "outputs": [],
   "source": [
    "from sklearn.feature_extraction.text import CountVectorizer"
   ]
  },
  {
   "cell_type": "code",
   "execution_count": 32,
   "id": "766da337",
   "metadata": {},
   "outputs": [],
   "source": [
    "lemmatizer = WordNetLemmatizer()\n",
    "\n",
    "def df_lemma(words, lemmatizer):\n",
    "    return [lemmatizer.lemmatize(word) for word in words]"
   ]
  },
  {
   "cell_type": "code",
   "execution_count": 33,
   "id": "84eea17b",
   "metadata": {},
   "outputs": [],
   "source": [
    "df['lemma'] = df['token'].apply(df_lemma, args=(lemmatizer, ))"
   ]
  },
  {
   "cell_type": "code",
   "execution_count": 34,
   "id": "59692724",
   "metadata": {},
   "outputs": [
    {
     "data": {
      "text/html": [
       "<div>\n",
       "<style scoped>\n",
       "    .dataframe tbody tr th:only-of-type {\n",
       "        vertical-align: middle;\n",
       "    }\n",
       "\n",
       "    .dataframe tbody tr th {\n",
       "        vertical-align: top;\n",
       "    }\n",
       "\n",
       "    .dataframe thead th {\n",
       "        text-align: right;\n",
       "    }\n",
       "</style>\n",
       "<table border=\"1\" class=\"dataframe\">\n",
       "  <thead>\n",
       "    <tr style=\"text-align: right;\">\n",
       "      <th></th>\n",
       "      <th>sentiment</th>\n",
       "      <th>message</th>\n",
       "      <th>tweetid</th>\n",
       "      <th>token</th>\n",
       "      <th>lemma</th>\n",
       "    </tr>\n",
       "  </thead>\n",
       "  <tbody>\n",
       "    <tr>\n",
       "      <th>15814</th>\n",
       "      <td>1</td>\n",
       "      <td>retweet took material global warming lgbt righ...</td>\n",
       "      <td>22001</td>\n",
       "      <td>[retweet, took, material, global, warming, lgb...</td>\n",
       "      <td>[retweet, took, material, global, warming, lgb...</td>\n",
       "    </tr>\n",
       "    <tr>\n",
       "      <th>15815</th>\n",
       "      <td>2</td>\n",
       "      <td>retweet climate change could breaking milliony...</td>\n",
       "      <td>17856</td>\n",
       "      <td>[retweet, climate, change, could, breaking, mi...</td>\n",
       "      <td>[retweet, climate, change, could, breaking, mi...</td>\n",
       "    </tr>\n",
       "    <tr>\n",
       "      <th>15816</th>\n",
       "      <td>0</td>\n",
       "      <td>notiven retweet nytimesworld trump actually be...</td>\n",
       "      <td>384248</td>\n",
       "      <td>[notiven, retweet, nytimesworld, trump, actual...</td>\n",
       "      <td>[notiven, retweet, nytimesworld, trump, actual...</td>\n",
       "    </tr>\n",
       "    <tr>\n",
       "      <th>15817</th>\n",
       "      <td>-1</td>\n",
       "      <td>retweet hey liberals climate change crap hoax ...</td>\n",
       "      <td>819732</td>\n",
       "      <td>[retweet, hey, liberals, climate, change, crap...</td>\n",
       "      <td>[retweet, hey, liberal, climate, change, crap,...</td>\n",
       "    </tr>\n",
       "    <tr>\n",
       "      <th>15818</th>\n",
       "      <td>0</td>\n",
       "      <td>retweet climate change equation screenshots</td>\n",
       "      <td>806319</td>\n",
       "      <td>[retweet, climate, change, equation, screenshots]</td>\n",
       "      <td>[retweet, climate, change, equation, screenshots]</td>\n",
       "    </tr>\n",
       "  </tbody>\n",
       "</table>\n",
       "</div>"
      ],
      "text/plain": [
       "       sentiment                                            message  tweetid  \\\n",
       "15814          1  retweet took material global warming lgbt righ...    22001   \n",
       "15815          2  retweet climate change could breaking milliony...    17856   \n",
       "15816          0  notiven retweet nytimesworld trump actually be...   384248   \n",
       "15817         -1  retweet hey liberals climate change crap hoax ...   819732   \n",
       "15818          0        retweet climate change equation screenshots   806319   \n",
       "\n",
       "                                                   token  \\\n",
       "15814  [retweet, took, material, global, warming, lgb...   \n",
       "15815  [retweet, climate, change, could, breaking, mi...   \n",
       "15816  [notiven, retweet, nytimesworld, trump, actual...   \n",
       "15817  [retweet, hey, liberals, climate, change, crap...   \n",
       "15818  [retweet, climate, change, equation, screenshots]   \n",
       "\n",
       "                                                   lemma  \n",
       "15814  [retweet, took, material, global, warming, lgb...  \n",
       "15815  [retweet, climate, change, could, breaking, mi...  \n",
       "15816  [notiven, retweet, nytimesworld, trump, actual...  \n",
       "15817  [retweet, hey, liberal, climate, change, crap,...  \n",
       "15818  [retweet, climate, change, equation, screenshots]  "
      ]
     },
     "execution_count": 34,
     "metadata": {},
     "output_type": "execute_result"
    }
   ],
   "source": [
    "df.tail()"
   ]
  },
  {
   "cell_type": "markdown",
   "id": "ba8e5963",
   "metadata": {},
   "source": [
    "A new column consisting of the lemmmatized words in string datatype will be created and used going forward in this report."
   ]
  },
  {
   "cell_type": "code",
   "execution_count": 35,
   "id": "d3a40a5c",
   "metadata": {
    "scrolled": true
   },
   "outputs": [
    {
     "data": {
      "text/html": [
       "<div>\n",
       "<style scoped>\n",
       "    .dataframe tbody tr th:only-of-type {\n",
       "        vertical-align: middle;\n",
       "    }\n",
       "\n",
       "    .dataframe tbody tr th {\n",
       "        vertical-align: top;\n",
       "    }\n",
       "\n",
       "    .dataframe thead th {\n",
       "        text-align: right;\n",
       "    }\n",
       "</style>\n",
       "<table border=\"1\" class=\"dataframe\">\n",
       "  <thead>\n",
       "    <tr style=\"text-align: right;\">\n",
       "      <th></th>\n",
       "      <th>sentiment</th>\n",
       "      <th>message</th>\n",
       "      <th>tweetid</th>\n",
       "      <th>token</th>\n",
       "      <th>lemma</th>\n",
       "      <th>lemma_str</th>\n",
       "    </tr>\n",
       "  </thead>\n",
       "  <tbody>\n",
       "    <tr>\n",
       "      <th>0</th>\n",
       "      <td>1</td>\n",
       "      <td>polyscimajor epa chief think carbon dioxide ma...</td>\n",
       "      <td>625221</td>\n",
       "      <td>[polyscimajor, epa, chief, think, carbon, diox...</td>\n",
       "      <td>[polyscimajor, epa, chief, think, carbon, diox...</td>\n",
       "      <td>polyscimajor epa chief think carbon dioxide ma...</td>\n",
       "    </tr>\n",
       "    <tr>\n",
       "      <th>1</th>\n",
       "      <td>1</td>\n",
       "      <td>not like lack evidence anthropogenic global wa...</td>\n",
       "      <td>126103</td>\n",
       "      <td>[not, like, lack, evidence, anthropogenic, glo...</td>\n",
       "      <td>[not, like, lack, evidence, anthropogenic, glo...</td>\n",
       "      <td>not like lack evidence anthropogenic global wa...</td>\n",
       "    </tr>\n",
       "    <tr>\n",
       "      <th>2</th>\n",
       "      <td>2</td>\n",
       "      <td>retweet researchers say three years act climat...</td>\n",
       "      <td>698562</td>\n",
       "      <td>[retweet, researchers, say, three, years, act,...</td>\n",
       "      <td>[retweet, researcher, say, three, year, act, c...</td>\n",
       "      <td>retweet researcher say three year act climate ...</td>\n",
       "    </tr>\n",
       "    <tr>\n",
       "      <th>3</th>\n",
       "      <td>1</td>\n",
       "      <td>todayinmaker wired pivotal year war climate ch...</td>\n",
       "      <td>573736</td>\n",
       "      <td>[todayinmaker, wired, pivotal, year, war, clim...</td>\n",
       "      <td>[todayinmaker, wired, pivotal, year, war, clim...</td>\n",
       "      <td>todayinmaker wired pivotal year war climate ch...</td>\n",
       "    </tr>\n",
       "    <tr>\n",
       "      <th>4</th>\n",
       "      <td>1</td>\n",
       "      <td>retweet racist sexist climate change denying b...</td>\n",
       "      <td>466954</td>\n",
       "      <td>[retweet, racist, sexist, climate, change, den...</td>\n",
       "      <td>[retweet, racist, sexist, climate, change, den...</td>\n",
       "      <td>retweet racist sexist climate change denying b...</td>\n",
       "    </tr>\n",
       "  </tbody>\n",
       "</table>\n",
       "</div>"
      ],
      "text/plain": [
       "   sentiment                                            message  tweetid  \\\n",
       "0          1  polyscimajor epa chief think carbon dioxide ma...   625221   \n",
       "1          1  not like lack evidence anthropogenic global wa...   126103   \n",
       "2          2  retweet researchers say three years act climat...   698562   \n",
       "3          1  todayinmaker wired pivotal year war climate ch...   573736   \n",
       "4          1  retweet racist sexist climate change denying b...   466954   \n",
       "\n",
       "                                               token  \\\n",
       "0  [polyscimajor, epa, chief, think, carbon, diox...   \n",
       "1  [not, like, lack, evidence, anthropogenic, glo...   \n",
       "2  [retweet, researchers, say, three, years, act,...   \n",
       "3  [todayinmaker, wired, pivotal, year, war, clim...   \n",
       "4  [retweet, racist, sexist, climate, change, den...   \n",
       "\n",
       "                                               lemma  \\\n",
       "0  [polyscimajor, epa, chief, think, carbon, diox...   \n",
       "1  [not, like, lack, evidence, anthropogenic, glo...   \n",
       "2  [retweet, researcher, say, three, year, act, c...   \n",
       "3  [todayinmaker, wired, pivotal, year, war, clim...   \n",
       "4  [retweet, racist, sexist, climate, change, den...   \n",
       "\n",
       "                                           lemma_str  \n",
       "0  polyscimajor epa chief think carbon dioxide ma...  \n",
       "1  not like lack evidence anthropogenic global wa...  \n",
       "2  retweet researcher say three year act climate ...  \n",
       "3  todayinmaker wired pivotal year war climate ch...  \n",
       "4  retweet racist sexist climate change denying b...  "
      ]
     },
     "execution_count": 35,
     "metadata": {},
     "output_type": "execute_result"
    }
   ],
   "source": [
    "df['lemma_str'] = [' '.join(map(str,l)) for l in df['lemma']]\n",
    "df.head()"
   ]
  },
  {
   "cell_type": "markdown",
   "id": "34ee89b1",
   "metadata": {},
   "source": [
    "# Vectorization"
   ]
  },
  {
   "cell_type": "markdown",
   "id": "f994f659",
   "metadata": {},
   "source": [
    "NLTK's CountVectorizer can be used to clean text data and extract features, transforming the text data into a matrix of numbers that can be fed into a machine learning model."
   ]
  },
  {
   "cell_type": "code",
   "execution_count": 36,
   "id": "29b30bdb",
   "metadata": {},
   "outputs": [],
   "source": [
    "from sklearn.feature_extraction.text import CountVectorizer"
   ]
  },
  {
   "cell_type": "markdown",
   "id": "43aef4cd",
   "metadata": {},
   "source": [
    "The top 25 words that appear most often will be used, to make the model easier to train."
   ]
  },
  {
   "cell_type": "code",
   "execution_count": 37,
   "id": "5209fa0c",
   "metadata": {},
   "outputs": [],
   "source": [
    "vect_25 = CountVectorizer(lowercase=True, max_features=25, analyzer='word', ngram_range=(1, 3))\n",
    "X_count = vect_25.fit_transform(df['lemma_str'].values.astype(str))"
   ]
  },
  {
   "cell_type": "code",
   "execution_count": 38,
   "id": "8523a3ac",
   "metadata": {},
   "outputs": [
    {
     "name": "stderr",
     "output_type": "stream",
     "text": [
      "C:\\Users\\Palesa Motsoahae\\anaconda3\\lib\\site-packages\\sklearn\\utils\\deprecation.py:87: FutureWarning: Function get_feature_names is deprecated; get_feature_names is deprecated in 1.0 and will be removed in 1.2. Please use get_feature_names_out instead.\n",
      "  warnings.warn(msg, category=FutureWarning)\n"
     ]
    },
    {
     "data": {
      "text/plain": [
       "['amp',\n",
       " 'believe',\n",
       " 'believe climate',\n",
       " 'believe climate change',\n",
       " 'change',\n",
       " 'climate',\n",
       " 'climate change',\n",
       " 'do',\n",
       " 'epa',\n",
       " 'global',\n",
       " 'global warming',\n",
       " 'going',\n",
       " 'http',\n",
       " 'not',\n",
       " 'people',\n",
       " 'real',\n",
       " 'retweet',\n",
       " 'say',\n",
       " 'scientist',\n",
       " 'think',\n",
       " 'trump',\n",
       " 'via',\n",
       " 'warming',\n",
       " 'will',\n",
       " 'world']"
      ]
     },
     "execution_count": 38,
     "metadata": {},
     "output_type": "execute_result"
    }
   ],
   "source": [
    "# Let us see feature names\n",
    "vect_25.get_feature_names()"
   ]
  },
  {
   "cell_type": "code",
   "execution_count": 39,
   "id": "f9f62350",
   "metadata": {},
   "outputs": [
    {
     "data": {
      "text/plain": [
       "(15819, 25)"
      ]
     },
     "execution_count": 39,
     "metadata": {},
     "output_type": "execute_result"
    }
   ],
   "source": [
    "# Get shape of our new predictor variables\n",
    "X_count.shape"
   ]
  },
  {
   "cell_type": "code",
   "execution_count": 40,
   "id": "36ce7475",
   "metadata": {},
   "outputs": [],
   "source": [
    "X = X_count.toarray()"
   ]
  },
  {
   "cell_type": "code",
   "execution_count": 41,
   "id": "52c343b5",
   "metadata": {},
   "outputs": [],
   "source": [
    "X = pd.DataFrame(X, columns= vect_25.get_feature_names())"
   ]
  },
  {
   "cell_type": "code",
   "execution_count": 42,
   "id": "ee7bd0e5",
   "metadata": {
    "scrolled": true
   },
   "outputs": [
    {
     "data": {
      "text/html": [
       "<div>\n",
       "<style scoped>\n",
       "    .dataframe tbody tr th:only-of-type {\n",
       "        vertical-align: middle;\n",
       "    }\n",
       "\n",
       "    .dataframe tbody tr th {\n",
       "        vertical-align: top;\n",
       "    }\n",
       "\n",
       "    .dataframe thead th {\n",
       "        text-align: right;\n",
       "    }\n",
       "</style>\n",
       "<table border=\"1\" class=\"dataframe\">\n",
       "  <thead>\n",
       "    <tr style=\"text-align: right;\">\n",
       "      <th></th>\n",
       "      <th>amp</th>\n",
       "      <th>believe</th>\n",
       "      <th>believe climate</th>\n",
       "      <th>believe climate change</th>\n",
       "      <th>change</th>\n",
       "      <th>climate</th>\n",
       "      <th>climate change</th>\n",
       "      <th>do</th>\n",
       "      <th>epa</th>\n",
       "      <th>global</th>\n",
       "      <th>global warming</th>\n",
       "      <th>going</th>\n",
       "      <th>http</th>\n",
       "      <th>not</th>\n",
       "      <th>people</th>\n",
       "      <th>real</th>\n",
       "      <th>retweet</th>\n",
       "      <th>say</th>\n",
       "      <th>scientist</th>\n",
       "      <th>think</th>\n",
       "      <th>trump</th>\n",
       "      <th>via</th>\n",
       "      <th>warming</th>\n",
       "      <th>will</th>\n",
       "      <th>world</th>\n",
       "    </tr>\n",
       "  </thead>\n",
       "  <tbody>\n",
       "    <tr>\n",
       "      <th>0</th>\n",
       "      <td>0</td>\n",
       "      <td>0</td>\n",
       "      <td>0</td>\n",
       "      <td>0</td>\n",
       "      <td>0</td>\n",
       "      <td>0</td>\n",
       "      <td>0</td>\n",
       "      <td>0</td>\n",
       "      <td>1</td>\n",
       "      <td>1</td>\n",
       "      <td>1</td>\n",
       "      <td>0</td>\n",
       "      <td>0</td>\n",
       "      <td>0</td>\n",
       "      <td>0</td>\n",
       "      <td>0</td>\n",
       "      <td>0</td>\n",
       "      <td>0</td>\n",
       "      <td>0</td>\n",
       "      <td>1</td>\n",
       "      <td>0</td>\n",
       "      <td>1</td>\n",
       "      <td>1</td>\n",
       "      <td>0</td>\n",
       "      <td>0</td>\n",
       "    </tr>\n",
       "    <tr>\n",
       "      <th>1</th>\n",
       "      <td>0</td>\n",
       "      <td>0</td>\n",
       "      <td>0</td>\n",
       "      <td>0</td>\n",
       "      <td>0</td>\n",
       "      <td>0</td>\n",
       "      <td>0</td>\n",
       "      <td>0</td>\n",
       "      <td>0</td>\n",
       "      <td>1</td>\n",
       "      <td>1</td>\n",
       "      <td>0</td>\n",
       "      <td>0</td>\n",
       "      <td>1</td>\n",
       "      <td>0</td>\n",
       "      <td>0</td>\n",
       "      <td>0</td>\n",
       "      <td>0</td>\n",
       "      <td>0</td>\n",
       "      <td>0</td>\n",
       "      <td>0</td>\n",
       "      <td>0</td>\n",
       "      <td>1</td>\n",
       "      <td>0</td>\n",
       "      <td>0</td>\n",
       "    </tr>\n",
       "    <tr>\n",
       "      <th>2</th>\n",
       "      <td>0</td>\n",
       "      <td>0</td>\n",
       "      <td>0</td>\n",
       "      <td>0</td>\n",
       "      <td>1</td>\n",
       "      <td>1</td>\n",
       "      <td>1</td>\n",
       "      <td>0</td>\n",
       "      <td>0</td>\n",
       "      <td>0</td>\n",
       "      <td>0</td>\n",
       "      <td>0</td>\n",
       "      <td>0</td>\n",
       "      <td>0</td>\n",
       "      <td>0</td>\n",
       "      <td>0</td>\n",
       "      <td>1</td>\n",
       "      <td>1</td>\n",
       "      <td>0</td>\n",
       "      <td>0</td>\n",
       "      <td>0</td>\n",
       "      <td>0</td>\n",
       "      <td>0</td>\n",
       "      <td>0</td>\n",
       "      <td>0</td>\n",
       "    </tr>\n",
       "    <tr>\n",
       "      <th>3</th>\n",
       "      <td>0</td>\n",
       "      <td>0</td>\n",
       "      <td>0</td>\n",
       "      <td>0</td>\n",
       "      <td>1</td>\n",
       "      <td>1</td>\n",
       "      <td>1</td>\n",
       "      <td>0</td>\n",
       "      <td>0</td>\n",
       "      <td>0</td>\n",
       "      <td>0</td>\n",
       "      <td>0</td>\n",
       "      <td>0</td>\n",
       "      <td>0</td>\n",
       "      <td>0</td>\n",
       "      <td>0</td>\n",
       "      <td>0</td>\n",
       "      <td>0</td>\n",
       "      <td>0</td>\n",
       "      <td>0</td>\n",
       "      <td>0</td>\n",
       "      <td>0</td>\n",
       "      <td>0</td>\n",
       "      <td>0</td>\n",
       "      <td>0</td>\n",
       "    </tr>\n",
       "    <tr>\n",
       "      <th>4</th>\n",
       "      <td>0</td>\n",
       "      <td>0</td>\n",
       "      <td>0</td>\n",
       "      <td>0</td>\n",
       "      <td>1</td>\n",
       "      <td>1</td>\n",
       "      <td>1</td>\n",
       "      <td>0</td>\n",
       "      <td>0</td>\n",
       "      <td>0</td>\n",
       "      <td>0</td>\n",
       "      <td>0</td>\n",
       "      <td>0</td>\n",
       "      <td>0</td>\n",
       "      <td>0</td>\n",
       "      <td>0</td>\n",
       "      <td>1</td>\n",
       "      <td>0</td>\n",
       "      <td>0</td>\n",
       "      <td>0</td>\n",
       "      <td>0</td>\n",
       "      <td>0</td>\n",
       "      <td>0</td>\n",
       "      <td>0</td>\n",
       "      <td>0</td>\n",
       "    </tr>\n",
       "  </tbody>\n",
       "</table>\n",
       "</div>"
      ],
      "text/plain": [
       "   amp  believe  believe climate  believe climate change  change  climate  \\\n",
       "0    0        0                0                       0       0        0   \n",
       "1    0        0                0                       0       0        0   \n",
       "2    0        0                0                       0       1        1   \n",
       "3    0        0                0                       0       1        1   \n",
       "4    0        0                0                       0       1        1   \n",
       "\n",
       "   climate change  do  epa  global  global warming  going  http  not  people  \\\n",
       "0               0   0    1       1               1      0     0    0       0   \n",
       "1               0   0    0       1               1      0     0    1       0   \n",
       "2               1   0    0       0               0      0     0    0       0   \n",
       "3               1   0    0       0               0      0     0    0       0   \n",
       "4               1   0    0       0               0      0     0    0       0   \n",
       "\n",
       "   real  retweet  say  scientist  think  trump  via  warming  will  world  \n",
       "0     0        0    0          0      1      0    1        1     0      0  \n",
       "1     0        0    0          0      0      0    0        1     0      0  \n",
       "2     0        1    1          0      0      0    0        0     0      0  \n",
       "3     0        0    0          0      0      0    0        0     0      0  \n",
       "4     0        1    0          0      0      0    0        0     0      0  "
      ]
     },
     "execution_count": 42,
     "metadata": {},
     "output_type": "execute_result"
    }
   ],
   "source": [
    "X.head()"
   ]
  },
  {
   "cell_type": "code",
   "execution_count": 43,
   "id": "71786f7c",
   "metadata": {},
   "outputs": [],
   "source": [
    "from sklearn.preprocessing import LabelEncoder\n",
    "le = LabelEncoder()\n",
    "# Fit label encoder and return encoded labels\n",
    "y = df[['sentiment']]"
   ]
  },
  {
   "cell_type": "code",
   "execution_count": 44,
   "id": "88c5a7fc",
   "metadata": {},
   "outputs": [
    {
     "data": {
      "text/html": [
       "<div>\n",
       "<style scoped>\n",
       "    .dataframe tbody tr th:only-of-type {\n",
       "        vertical-align: middle;\n",
       "    }\n",
       "\n",
       "    .dataframe tbody tr th {\n",
       "        vertical-align: top;\n",
       "    }\n",
       "\n",
       "    .dataframe thead th {\n",
       "        text-align: right;\n",
       "    }\n",
       "</style>\n",
       "<table border=\"1\" class=\"dataframe\">\n",
       "  <thead>\n",
       "    <tr style=\"text-align: right;\">\n",
       "      <th></th>\n",
       "      <th>sentiment</th>\n",
       "    </tr>\n",
       "  </thead>\n",
       "  <tbody>\n",
       "    <tr>\n",
       "      <th>0</th>\n",
       "      <td>1</td>\n",
       "    </tr>\n",
       "    <tr>\n",
       "      <th>1</th>\n",
       "      <td>1</td>\n",
       "    </tr>\n",
       "    <tr>\n",
       "      <th>2</th>\n",
       "      <td>2</td>\n",
       "    </tr>\n",
       "    <tr>\n",
       "      <th>3</th>\n",
       "      <td>1</td>\n",
       "    </tr>\n",
       "    <tr>\n",
       "      <th>4</th>\n",
       "      <td>1</td>\n",
       "    </tr>\n",
       "    <tr>\n",
       "      <th>...</th>\n",
       "      <td>...</td>\n",
       "    </tr>\n",
       "    <tr>\n",
       "      <th>15814</th>\n",
       "      <td>1</td>\n",
       "    </tr>\n",
       "    <tr>\n",
       "      <th>15815</th>\n",
       "      <td>2</td>\n",
       "    </tr>\n",
       "    <tr>\n",
       "      <th>15816</th>\n",
       "      <td>0</td>\n",
       "    </tr>\n",
       "    <tr>\n",
       "      <th>15817</th>\n",
       "      <td>-1</td>\n",
       "    </tr>\n",
       "    <tr>\n",
       "      <th>15818</th>\n",
       "      <td>0</td>\n",
       "    </tr>\n",
       "  </tbody>\n",
       "</table>\n",
       "<p>15819 rows × 1 columns</p>\n",
       "</div>"
      ],
      "text/plain": [
       "       sentiment\n",
       "0              1\n",
       "1              1\n",
       "2              2\n",
       "3              1\n",
       "4              1\n",
       "...          ...\n",
       "15814          1\n",
       "15815          2\n",
       "15816          0\n",
       "15817         -1\n",
       "15818          0\n",
       "\n",
       "[15819 rows x 1 columns]"
      ]
     },
     "execution_count": 44,
     "metadata": {},
     "output_type": "execute_result"
    }
   ],
   "source": [
    "y"
   ]
  },
  {
   "cell_type": "markdown",
   "id": "cb976752",
   "metadata": {},
   "source": [
    "# Class Imbalance"
   ]
  },
  {
   "cell_type": "markdown",
   "id": "f79e8054",
   "metadata": {},
   "source": [
    "As seen in the exploratory, the dataset classes are imbalanced. Imbalance data can hamper the models' accuracy big. In order to tackle this issue, the dataset has to be resampled. In order to do this, resampling techniques will be used."
   ]
  },
  {
   "cell_type": "code",
   "execution_count": 45,
   "id": "16b626f3",
   "metadata": {},
   "outputs": [],
   "source": [
    "from sklearn.model_selection import train_test_split\n",
    "from sklearn import preprocessing"
   ]
  },
  {
   "cell_type": "code",
   "execution_count": 46,
   "id": "af537769",
   "metadata": {},
   "outputs": [],
   "source": [
    "# Separate sentiment into classes \n",
    "Neutral = df[df['sentiment']==0]\n",
    "Pro = df[df['sentiment']==1]\n",
    "Anti = df[df['sentiment']==-1]\n",
    "News = df[df['sentiment']==2]"
   ]
  },
  {
   "cell_type": "code",
   "execution_count": 47,
   "id": "4931d655",
   "metadata": {},
   "outputs": [
    {
     "data": {
      "image/png": "[encoded data removed]",
      "text/plain": [
       "<Figure size 1000x700 with 1 Axes>"
      ]
     },
     "metadata": {},
     "output_type": "display_data"
    }
   ],
   "source": [
    "# Get all possible labels\n",
    "labels = df['sentiment'].unique()\n",
    "heights = [len(Anti),len(Neutral), len(Pro), len(News)]\n",
    "plt.figure(figsize=(10,7))\n",
    "plt.bar(labels,heights,color='green')\n",
    "plt.xticks(labels,['Anti','Neutral','Pro','News'])\n",
    "plt.xlabel('Labels')\n",
    "plt.ylabel(\"Number of Tweets\")\n",
    "plt.savefig(\"Sentiment.png\")\n",
    "plt.show()"
   ]
  },
  {
   "cell_type": "markdown",
   "id": "43b2d523",
   "metadata": {},
   "source": [
    "<a id=\"five\"></a>\n",
    "## 5. Training Models\n",
    "<a class=\"anchor\" id=\"1.1\"></a>\n",
    "<a href=#cont>Back to Table of Contents</a>\n",
    "\n",
    "---\n",
    "    \n",
    "| ⚡ Description: Modelling ⚡ |\n",
    "| :--------------------------- |\n",
    "| In this section, you are required to create one or more regression models that are able to accurately predict the thee hour load shortfall. |\n",
    "\n",
    "---"
   ]
  },
  {
   "cell_type": "markdown",
   "id": "2c6f3784",
   "metadata": {},
   "source": [
    "# Bernoulli Naive Bayes"
   ]
  },
  {
   "cell_type": "markdown",
   "id": "fd111104",
   "metadata": {},
   "source": [
    "Bernoulli Naive Bayes is a part of the Naive Bayes family. It is based on the Bernoulli Distribution and accepts only binary values, i.e., 0 or 1. If the features of the dataset are binary, then we can assume that Bernoulli Naive Bayes is the algorithm to be used."
   ]
  },
  {
   "cell_type": "code",
   "execution_count": 48,
   "id": "3ae729df",
   "metadata": {},
   "outputs": [],
   "source": [
    "from sklearn.metrics import classification_report, accuracy_score, log_loss"
   ]
  },
  {
   "cell_type": "markdown",
   "id": "6b530251",
   "metadata": {},
   "source": [
    "<a id=\"six\"></a>\n",
    "## 6. Model Performance\n",
    "<a class=\"anchor\" id=\"1.1\"></a>\n",
    "<a href=#cont>Back to Table of Contents</a>\n",
    "\n",
    "---\n",
    "    \n",
    "| ⚡ Description: Model performance ⚡ |\n",
    "| :--------------------------- |\n",
    "| In this section you are required to compare the relative performance of the various trained ML models on a holdout dataset and comment on what model is the best and why. |\n",
    "\n",
    "---"
   ]
  },
  {
   "cell_type": "code",
   "execution_count": null,
   "id": "6a69b5a1",
   "metadata": {},
   "outputs": [],
   "source": [
    "# Compare model performance"
   ]
  },
  {
   "cell_type": "code",
   "execution_count": null,
   "id": "3874a7c6",
   "metadata": {},
   "outputs": [],
   "source": [
    "# Choose best model and motivate why it is the best choice"
   ]
  },
  {
   "cell_type": "markdown",
   "id": "a8ad0c0d",
   "metadata": {},
   "source": [
    "<a id=\"seven\"></a>\n",
    "## 7. Model Explanations\n",
    "<a class=\"anchor\" id=\"1.1\"></a>\n",
    "<a href=#cont>Back to Table of Contents</a>\n",
    "\n",
    "---\n",
    "    \n",
    "| ⚡ Description: Model explanation ⚡ |\n",
    "| :--------------------------- |\n",
    "| In this section, you are required to discuss how the best performing model works in a simple way so that both technical and non-technical stakeholders can grasp the intuition behind the model's inner workings. |\n",
    "\n",
    "---"
   ]
  },
  {
   "cell_type": "code",
   "execution_count": null,
   "id": "5ff741c2",
   "metadata": {},
   "outputs": [],
   "source": [
    "# discuss chosen methods logic"
   ]
  }
 ],
 "metadata": {
  "kernelspec": {
   "display_name": "Python 3 (ipykernel)",
   "language": "python",
   "name": "python3"
  },
  "language_info": {
   "codemirror_mode": {
    "name": "ipython",
    "version": 3
   },
   "file_extension": ".py",
   "mimetype": "text/x-python",
   "name": "python",
   "nbconvert_exporter": "python",
   "pygments_lexer": "ipython3",
   "version": "3.9.13"
  },
  "latex_envs": {
   "LaTeX_envs_menu_present": true,
   "autoclose": false,
   "autocomplete": true,
   "bibliofile": "biblio.bib",
   "cite_by": "apalike",
   "current_citInitial": 1,
   "eqLabelWithNumbers": true,
   "eqNumInitial": 1,
   "hotkeys": {
    "equation": "Ctrl-E",
    "itemize": "Ctrl-I"
   },
   "labels_anchors": false,
   "latex_user_defs": false,
   "report_style_numbering": false,
   "user_envs_cfg": false
  },
  "toc": {
   "base_numbering": 1,
   "nav_menu": {},
   "number_sections": true,
   "sideBar": true,
   "skip_h1_title": false,
   "title_cell": "Table of Contents",
   "title_sidebar": "Contents",
   "toc_cell": false,
   "toc_position": {},
   "toc_section_display": true,
   "toc_window_display": false
  },
  "varInspector": {
   "cols": {
    "lenName": 16,
    "lenType": 16,
    "lenVar": 40
   },
   "kernels_config": {
    "python": {
     "delete_cmd_postfix": "",
     "delete_cmd_prefix": "del ",
     "library": "var_list.py",
     "varRefreshCmd": "print(var_dic_list())"
    },
    "r": {
     "delete_cmd_postfix": ") ",
     "delete_cmd_prefix": "rm(",
     "library": "var_list.r",
     "varRefreshCmd": "cat(var_dic_list()) "
    }
   },
   "types_to_exclude": [
    "module",
    "function",
    "builtin_function_or_method",
    "instance",
    "_Feature"
   ],
   "window_display": false
  }
 },
 "nbformat": 4,
 "nbformat_minor": 5
}
