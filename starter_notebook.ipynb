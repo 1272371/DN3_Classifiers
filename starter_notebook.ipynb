{
 "cells": [
  {
   "cell_type": "markdown",
   "id": "6c7e849a",
   "metadata": {
    "id": "6c7e849a"
   },
   "source": [
    "# Regression Predict Student Solution\n",
    "\n",
    "© Explore Data Science Academy\n",
    "\n",
    "---\n",
    "### Honour Code\n",
    "\n",
    "I {**YOUR NAME, YOUR SURNAME**}, confirm - by submitting this document - that the solutions in this notebook are a result of my own work and that I abide by the [EDSA honour code](https://drive.google.com/file/d/1QDCjGZJ8-FmJE3bZdIQNwnJyQKPhHZBn/view?usp=sharing).\n",
    "\n",
    "Non-compliance with the honour code constitutes a material breach of contract.\n",
    "\n",
    "### Predict Overview: EA - Twitter Sentiment Classification\n",
    "\n",
    "The data was funded by a Canada Foundation for Innovation JELF Grant to Chris Bauch, University of Waterloo. The dataset aggregates tweets pertaining to climate change collected between Apr 27, 2015 and Feb 21, 2018. In total, 43,943 tweets were collected. Each tweet is labelled as one of 4 classes, which are described below.\n",
    "\n",
    "\n",
    "**Class Description**\n",
    "\n",
    "2 News: the tweet links to factual news about climate change.\n",
    "\n",
    "1 Pro: the tweet supports the belief of man-made climate change.\n",
    "\n",
    "0 Neutral: the tweet neither supports nor refutes the belief of man-made climate change.\n",
    "\n",
    "-1 Anti: the tweet does not believe in man-made climate change Variable definitions.\n"
   ]
  },
  {
   "cell_type": "markdown",
   "id": "05600c92",
   "metadata": {
    "id": "05600c92"
   },
   "source": [
    "<a id=\"cont\"></a>\n",
    "\n",
    "## Table of Contents\n",
    "\n",
    "<a href=#one>1. Importing Packages</a>\n",
    "\n",
    "<a href=#two>2. Loading Data</a>\n",
    "\n",
    "<a href=#three>3. Exploratory Data Analysis (EDA)</a>\n",
    "\n",
    "<a href=#four>4. Data Engineering</a>\n",
    "\n",
    "<a href=#five>5. Modeling</a>\n",
    "\n",
    "<a href=#six>6. Model Performance</a>\n",
    "\n",
    "<a href=#seven>7. Model Explanations</a>"
   ]
  },
  {
   "cell_type": "markdown",
   "id": "997462e2",
   "metadata": {
    "id": "997462e2"
   },
   "source": [
    " <a id=\"one\"></a>\n",
    "## 1. Importing Packages\n",
    "<a href=#cont>Back to Table of Contents</a>\n",
    "\n",
    "---\n",
    "\n",
    "| ⚡ Description: Importing Packages ⚡ |\n",
    "| :--------------------------- |\n",
    "| In this section you are required to import, and briefly discuss, the libraries that will be used throughout your analysis and modelling. |\n",
    "\n",
    "---"
   ]
  },
  {
   "cell_type": "code",
   "execution_count": 1,
   "id": "475dbe93",
   "metadata": {
    "id": "475dbe93"
   },
   "outputs": [],
   "source": [
    "# Libraries for data loading, data manipulation and data visulisation\n",
    "import pandas as pd\n",
    "import matplotlib.pyplot as plt\n",
    "import seaborn as sns\n",
    "import numpy as np\n",
    "\n",
    "# Libraries for data preparation and model building\n",
    "from sklearn.feature_extraction.text import CountVectorizer\n",
    "from sklearn.linear_model import LogisticRegression\n",
    "from sklearn.ensemble import RandomForestClassifier, GradientBoostingClassifier\n",
    "from sklearn.tree import DecisionTreeClassifier,plot_tree\n",
    "from sklearn.model_selection import train_test_split\n",
    "from sklearn.metrics import accuracy_score, f1_score, precision_score, recall_score, classification_report, confusion_matrix\n",
    "from sklearn.neighbors import KNeighborsClassifier\n",
    "from sklearn.utils import resample\n",
    "from sklearn.svm import SVC\n",
    "from sklearn.feature_selection import VarianceThreshold\n",
    "from sklearn.svm import SVC\n",
    "from tensorflow.keras.layers import Dense\n",
    "from tensorflow.keras.models import Sequential\n",
    "import tensorflow as tf\n",
    "from tensorflow.keras.utils import to_categorical\n",
    "from keras.layers import Embedding, LSTM, Dense\n",
    "import time"
   ]
  },
  {
   "cell_type": "markdown",
   "id": "f22a6718",
   "metadata": {
    "id": "f22a6718"
   },
   "source": [
    "<a id=\"two\"></a>\n",
    "## 2. Loading the Data\n",
    "<a class=\"anchor\" id=\"1.1\"></a>\n",
    "<a href=#cont>Back to Table of Contents</a>\n",
    "\n",
    "---\n",
    "\n",
    "| ⚡ Description: Loading the data ⚡ |\n",
    "| :--------------------------- |\n",
    "| In this section you are required to load the data from the `df_train` file into a DataFrame. |\n",
    "\n",
    "---"
   ]
  },
  {
   "cell_type": "code",
   "execution_count": 4,
   "id": "fbbb6c18",
   "metadata": {
    "colab": {
     "base_uri": "https://localhost:8080/",
     "height": 423
    },
    "id": "fbbb6c18",
    "outputId": "d81949af-3d17-4259-ea38-b761a3c2a3a6"
   },
   "outputs": [],
   "source": [
    "df_train=pd.read_csv(\"train.csv\")\n",
    "df_test=pd.read_csv('test_with_no_labels.csv')"
   ]
  },
  {
   "cell_type": "markdown",
   "id": "81132ab3",
   "metadata": {
    "id": "81132ab3"
   },
   "source": [
    "<a id=\"three\"></a>\n",
    "## 3. Exploratory Data Analysis (EDA)\n",
    "<a class=\"anchor\" id=\"1.1\"></a>\n",
    "<a href=#cont>Back to Table of Contents</a>\n",
    "\n",
    "---\n",
    "\n",
    "| ⚡ Description: Exploratory data analysis ⚡ |\n",
    "| :--------------------------- |\n",
    "| In this section, you are required to perform an in-depth analysis of all the variables in the DataFrame. |\n",
    "\n",
    "---\n"
   ]
  },
  {
   "cell_type": "markdown",
   "id": "kHziVYT--ssa",
   "metadata": {
    "id": "kHziVYT--ssa"
   },
   "source": [
    "https and name of the handle in the message in data cleaning so that we will be left with the actual message......Still need to be  done"
   ]
  },
  {
   "cell_type": "code",
   "execution_count": 15,
   "id": "E-i0RCzhcm1U",
   "metadata": {
    "colab": {
     "base_uri": "https://localhost:8080/",
     "height": 423
    },
    "id": "E-i0RCzhcm1U",
    "outputId": "8ba99731-dcfe-4d31-c8bc-f51de2452c66"
   },
   "outputs": [
    {
     "data": {
      "text/html": [
       "<div>\n",
       "<style scoped>\n",
       "    .dataframe tbody tr th:only-of-type {\n",
       "        vertical-align: middle;\n",
       "    }\n",
       "\n",
       "    .dataframe tbody tr th {\n",
       "        vertical-align: top;\n",
       "    }\n",
       "\n",
       "    .dataframe thead th {\n",
       "        text-align: right;\n",
       "    }\n",
       "</style>\n",
       "<table border=\"1\" class=\"dataframe\">\n",
       "  <thead>\n",
       "    <tr style=\"text-align: right;\">\n",
       "      <th></th>\n",
       "      <th>sentiment</th>\n",
       "      <th>message</th>\n",
       "      <th>tweetid</th>\n",
       "      <th>count</th>\n",
       "    </tr>\n",
       "  </thead>\n",
       "  <tbody>\n",
       "    <tr>\n",
       "      <th>0</th>\n",
       "      <td>1</td>\n",
       "      <td>PolySciMajor EPA chief doesn't think carbon di...</td>\n",
       "      <td>625221</td>\n",
       "      <td>19</td>\n",
       "    </tr>\n",
       "    <tr>\n",
       "      <th>1</th>\n",
       "      <td>1</td>\n",
       "      <td>It's not like we lack evidence of anthropogeni...</td>\n",
       "      <td>126103</td>\n",
       "      <td>10</td>\n",
       "    </tr>\n",
       "    <tr>\n",
       "      <th>2</th>\n",
       "      <td>2</td>\n",
       "      <td>RT @RawStory: Researchers say we have three ye...</td>\n",
       "      <td>698562</td>\n",
       "      <td>19</td>\n",
       "    </tr>\n",
       "    <tr>\n",
       "      <th>3</th>\n",
       "      <td>1</td>\n",
       "      <td>#TodayinMaker# WIRED : 2016 was a pivotal year...</td>\n",
       "      <td>573736</td>\n",
       "      <td>15</td>\n",
       "    </tr>\n",
       "    <tr>\n",
       "      <th>4</th>\n",
       "      <td>1</td>\n",
       "      <td>RT @SoyNovioDeTodas: It's 2016, and a racist, ...</td>\n",
       "      <td>466954</td>\n",
       "      <td>18</td>\n",
       "    </tr>\n",
       "    <tr>\n",
       "      <th>...</th>\n",
       "      <td>...</td>\n",
       "      <td>...</td>\n",
       "      <td>...</td>\n",
       "      <td>...</td>\n",
       "    </tr>\n",
       "    <tr>\n",
       "      <th>15814</th>\n",
       "      <td>1</td>\n",
       "      <td>RT @ezlusztig: They took down the material on ...</td>\n",
       "      <td>22001</td>\n",
       "      <td>22</td>\n",
       "    </tr>\n",
       "    <tr>\n",
       "      <th>15815</th>\n",
       "      <td>2</td>\n",
       "      <td>RT @washingtonpost: How climate change could b...</td>\n",
       "      <td>17856</td>\n",
       "      <td>13</td>\n",
       "    </tr>\n",
       "    <tr>\n",
       "      <th>15816</th>\n",
       "      <td>0</td>\n",
       "      <td>notiven: RT: nytimesworld :What does Trump act...</td>\n",
       "      <td>384248</td>\n",
       "      <td>19</td>\n",
       "    </tr>\n",
       "    <tr>\n",
       "      <th>15817</th>\n",
       "      <td>-1</td>\n",
       "      <td>RT @sara8smiles: Hey liberals the climate chan...</td>\n",
       "      <td>819732</td>\n",
       "      <td>21</td>\n",
       "    </tr>\n",
       "    <tr>\n",
       "      <th>15818</th>\n",
       "      <td>0</td>\n",
       "      <td>RT @Chet_Cannon: .@kurteichenwald's 'climate c...</td>\n",
       "      <td>806319</td>\n",
       "      <td>10</td>\n",
       "    </tr>\n",
       "  </tbody>\n",
       "</table>\n",
       "<p>15819 rows × 4 columns</p>\n",
       "</div>"
      ],
      "text/plain": [
       "       sentiment                                            message  tweetid  \\\n",
       "0              1  PolySciMajor EPA chief doesn't think carbon di...   625221   \n",
       "1              1  It's not like we lack evidence of anthropogeni...   126103   \n",
       "2              2  RT @RawStory: Researchers say we have three ye...   698562   \n",
       "3              1  #TodayinMaker# WIRED : 2016 was a pivotal year...   573736   \n",
       "4              1  RT @SoyNovioDeTodas: It's 2016, and a racist, ...   466954   \n",
       "...          ...                                                ...      ...   \n",
       "15814          1  RT @ezlusztig: They took down the material on ...    22001   \n",
       "15815          2  RT @washingtonpost: How climate change could b...    17856   \n",
       "15816          0  notiven: RT: nytimesworld :What does Trump act...   384248   \n",
       "15817         -1  RT @sara8smiles: Hey liberals the climate chan...   819732   \n",
       "15818          0  RT @Chet_Cannon: .@kurteichenwald's 'climate c...   806319   \n",
       "\n",
       "       count  \n",
       "0         19  \n",
       "1         10  \n",
       "2         19  \n",
       "3         15  \n",
       "4         18  \n",
       "...      ...  \n",
       "15814     22  \n",
       "15815     13  \n",
       "15816     19  \n",
       "15817     21  \n",
       "15818     10  \n",
       "\n",
       "[15819 rows x 4 columns]"
      ]
     },
     "execution_count": 15,
     "metadata": {},
     "output_type": "execute_result"
    }
   ],
   "source": [
    "df_train['count']=df_train['message'].str.split().str.len()\n",
    "df_train\n"
   ]
  },
  {
   "cell_type": "code",
   "execution_count": 5,
   "id": "8270b488",
   "metadata": {},
   "outputs": [
    {
     "data": {
      "text/html": [
       "<div>\n",
       "<style scoped>\n",
       "    .dataframe tbody tr th:only-of-type {\n",
       "        vertical-align: middle;\n",
       "    }\n",
       "\n",
       "    .dataframe tbody tr th {\n",
       "        vertical-align: top;\n",
       "    }\n",
       "\n",
       "    .dataframe thead th {\n",
       "        text-align: right;\n",
       "    }\n",
       "</style>\n",
       "<table border=\"1\" class=\"dataframe\">\n",
       "  <thead>\n",
       "    <tr style=\"text-align: right;\">\n",
       "      <th></th>\n",
       "      <th>sentiment</th>\n",
       "      <th>message</th>\n",
       "      <th>tweetid</th>\n",
       "    </tr>\n",
       "  </thead>\n",
       "  <tbody>\n",
       "    <tr>\n",
       "      <th>0</th>\n",
       "      <td>1</td>\n",
       "      <td>PolySciMajor EPA chief doesn't think carbon di...</td>\n",
       "      <td>625221</td>\n",
       "    </tr>\n",
       "    <tr>\n",
       "      <th>1</th>\n",
       "      <td>1</td>\n",
       "      <td>It's not like we lack evidence of anthropogeni...</td>\n",
       "      <td>126103</td>\n",
       "    </tr>\n",
       "    <tr>\n",
       "      <th>2</th>\n",
       "      <td>2</td>\n",
       "      <td>RT @RawStory: Researchers say we have three ye...</td>\n",
       "      <td>698562</td>\n",
       "    </tr>\n",
       "    <tr>\n",
       "      <th>3</th>\n",
       "      <td>1</td>\n",
       "      <td>#TodayinMaker# WIRED : 2016 was a pivotal year...</td>\n",
       "      <td>573736</td>\n",
       "    </tr>\n",
       "    <tr>\n",
       "      <th>4</th>\n",
       "      <td>1</td>\n",
       "      <td>RT @SoyNovioDeTodas: It's 2016, and a racist, ...</td>\n",
       "      <td>466954</td>\n",
       "    </tr>\n",
       "  </tbody>\n",
       "</table>\n",
       "</div>"
      ],
      "text/plain": [
       "   sentiment                                            message  tweetid\n",
       "0          1  PolySciMajor EPA chief doesn't think carbon di...   625221\n",
       "1          1  It's not like we lack evidence of anthropogeni...   126103\n",
       "2          2  RT @RawStory: Researchers say we have three ye...   698562\n",
       "3          1  #TodayinMaker# WIRED : 2016 was a pivotal year...   573736\n",
       "4          1  RT @SoyNovioDeTodas: It's 2016, and a racist, ...   466954"
      ]
     },
     "execution_count": 5,
     "metadata": {},
     "output_type": "execute_result"
    }
   ],
   "source": [
    "df_train.head()"
   ]
  },
  {
   "cell_type": "code",
   "execution_count": 8,
   "id": "ac31748e",
   "metadata": {},
   "outputs": [
    {
     "data": {
      "text/html": [
       "<div>\n",
       "<style scoped>\n",
       "    .dataframe tbody tr th:only-of-type {\n",
       "        vertical-align: middle;\n",
       "    }\n",
       "\n",
       "    .dataframe tbody tr th {\n",
       "        vertical-align: top;\n",
       "    }\n",
       "\n",
       "    .dataframe thead th {\n",
       "        text-align: right;\n",
       "    }\n",
       "</style>\n",
       "<table border=\"1\" class=\"dataframe\">\n",
       "  <thead>\n",
       "    <tr style=\"text-align: right;\">\n",
       "      <th></th>\n",
       "      <th>message</th>\n",
       "      <th>tweetid</th>\n",
       "    </tr>\n",
       "  </thead>\n",
       "  <tbody>\n",
       "    <tr>\n",
       "      <th>0</th>\n",
       "      <td>Europe will now be looking to China to make su...</td>\n",
       "      <td>169760</td>\n",
       "    </tr>\n",
       "    <tr>\n",
       "      <th>1</th>\n",
       "      <td>Combine this with the polling of staffers re c...</td>\n",
       "      <td>35326</td>\n",
       "    </tr>\n",
       "    <tr>\n",
       "      <th>2</th>\n",
       "      <td>The scary, unimpeachable evidence that climate...</td>\n",
       "      <td>224985</td>\n",
       "    </tr>\n",
       "    <tr>\n",
       "      <th>3</th>\n",
       "      <td>@Karoli @morgfair @OsborneInk @dailykos \\nPuti...</td>\n",
       "      <td>476263</td>\n",
       "    </tr>\n",
       "    <tr>\n",
       "      <th>4</th>\n",
       "      <td>RT @FakeWillMoore: 'Female orgasms cause globa...</td>\n",
       "      <td>872928</td>\n",
       "    </tr>\n",
       "  </tbody>\n",
       "</table>\n",
       "</div>"
      ],
      "text/plain": [
       "                                             message  tweetid\n",
       "0  Europe will now be looking to China to make su...   169760\n",
       "1  Combine this with the polling of staffers re c...    35326\n",
       "2  The scary, unimpeachable evidence that climate...   224985\n",
       "3  @Karoli @morgfair @OsborneInk @dailykos \\nPuti...   476263\n",
       "4  RT @FakeWillMoore: 'Female orgasms cause globa...   872928"
      ]
     },
     "execution_count": 8,
     "metadata": {},
     "output_type": "execute_result"
    }
   ],
   "source": [
    "df_test.head()"
   ]
  },
  {
   "cell_type": "code",
   "execution_count": 13,
   "id": "a0155395",
   "metadata": {},
   "outputs": [
    {
     "name": "stdout",
     "output_type": "stream",
     "text": [
      "<class 'pandas.core.frame.DataFrame'>\n",
      "RangeIndex: 15819 entries, 0 to 15818\n",
      "Data columns (total 3 columns):\n",
      " #   Column     Non-Null Count  Dtype \n",
      "---  ------     --------------  ----- \n",
      " 0   sentiment  15819 non-null  int64 \n",
      " 1   message    15819 non-null  object\n",
      " 2   tweetid    15819 non-null  int64 \n",
      "dtypes: int64(2), object(1)\n",
      "memory usage: 370.9+ KB\n"
     ]
    }
   ],
   "source": [
    "df_train.info()"
   ]
  },
  {
   "cell_type": "code",
   "execution_count": 14,
   "id": "3163a968",
   "metadata": {},
   "outputs": [
    {
     "name": "stdout",
     "output_type": "stream",
     "text": [
      "<class 'pandas.core.frame.DataFrame'>\n",
      "RangeIndex: 10546 entries, 0 to 10545\n",
      "Data columns (total 2 columns):\n",
      " #   Column   Non-Null Count  Dtype \n",
      "---  ------   --------------  ----- \n",
      " 0   message  10546 non-null  object\n",
      " 1   tweetid  10546 non-null  int64 \n",
      "dtypes: int64(1), object(1)\n",
      "memory usage: 164.9+ KB\n"
     ]
    }
   ],
   "source": [
    "df_test.info()"
   ]
  },
  {
   "cell_type": "code",
   "execution_count": 18,
   "id": "RbYS0TEv714Q",
   "metadata": {
    "colab": {
     "base_uri": "https://localhost:8080/",
     "height": 471
    },
    "id": "RbYS0TEv714Q",
    "outputId": "ddfd7fba-7046-48d4-e6ea-fab1d4eae9ef"
   },
   "outputs": [
    {
     "data": {
      "image/png": "[encoded data removed]",
      "text/plain": [
       "<Figure size 640x480 with 1 Axes>"
      ]
     },
     "metadata": {},
     "output_type": "display_data"
    }
   ],
   "source": [
    "countv= df_train[['sentiment', 'message']].groupby('sentiment').count()\n",
    "countv.sort_values('message', ascending=False).plot(kind='bar')\n",
    "plt.title('Distribution of tweets across different sentiments')\n",
    "plt.ylabel('Number of tweets')\n",
    "plt.show()"
   ]
  },
  {
   "cell_type": "markdown",
   "id": "7cFrurYB8_di",
   "metadata": {
    "id": "7cFrurYB8_di"
   },
   "source": [
    "**Observation:** Most tweets came from those who supports the belief of man-made climate change, followed by the tweet links to factual news about climate change . Meanwhile, least tweets does not believe in man-made climate change Variable definitions."
   ]
  },
  {
   "cell_type": "code",
   "execution_count": 21,
   "id": "0YgHd39p793i",
   "metadata": {
    "id": "0YgHd39p793i"
   },
   "outputs": [],
   "source": [
    "Pro=df_train[df_train['sentiment']==1]\n",
    "News=df_train[df_train['sentiment']==2]\n",
    "Neutral=df_train[df_train['sentiment']==0]\n",
    "Anti=df_train[df_train['sentiment']==-1]"
   ]
  },
  {
   "cell_type": "code",
   "execution_count": 22,
   "id": "2Wr-xlmmd11I",
   "metadata": {
    "colab": {
     "base_uri": "https://localhost:8080/",
     "height": 770
    },
    "id": "2Wr-xlmmd11I",
    "outputId": "e32a28bb-b60b-439b-eef7-141dff46c812"
   },
   "outputs": [
    {
     "data": {
      "text/plain": [
       "<AxesSubplot:>"
      ]
     },
     "execution_count": 22,
     "metadata": {},
     "output_type": "execute_result"
    },
    {
     "data": {
      "image/png": "[encoded data removed]",
      "text/plain": [
       "<Figure size 1200x900 with 4 Axes>"
      ]
     },
     "metadata": {},
     "output_type": "display_data"
    }
   ],
   "source": [
    "fig, ax = plt.subplots(2, 2, figsize=(12, 9))\n",
    "News['count'].plot(kind='box', ax=ax[0,0], label='News')\n",
    "Pro['count'].plot(kind='box', ax=ax[0,1], label='Pro')\n",
    "Neutral['count'].plot(kind='box', ax=ax[1,0], label='Neutral')\n",
    "Anti['count'].plot(kind='box', ax=ax[1,1], label='Anti')"
   ]
  },
  {
   "cell_type": "code",
   "execution_count": 23,
   "id": "scczE42qeCPD",
   "metadata": {
    "colab": {
     "base_uri": "https://localhost:8080/",
     "height": 770
    },
    "id": "scczE42qeCPD",
    "outputId": "4c7412bc-38d3-41ee-c5e1-72908a43fcca"
   },
   "outputs": [
    {
     "data": {
      "text/plain": [
       "<AxesSubplot:ylabel='Density'>"
      ]
     },
     "execution_count": 23,
     "metadata": {},
     "output_type": "execute_result"
    },
    {
     "data": {
      "image/png": "[encoded data removed]",
      "text/plain": [
       "<Figure size 1200x900 with 4 Axes>"
      ]
     },
     "metadata": {},
     "output_type": "display_data"
    }
   ],
   "source": [
    "fig, ax = plt.subplots(2, 2, figsize=(12, 9))\n",
    "News['count'].plot(kind='density', ax=ax[0,0], label='News')\n",
    "Pro['count'].plot(kind='density', ax=ax[0,1], label='Pro')\n",
    "Neutral['count'].plot(kind='density', ax=ax[1,0], label='Neutral')\n",
    "Anti['count'].plot(kind='density', ax=ax[1,1], label='Anti')"
   ]
  },
  {
   "cell_type": "markdown",
   "id": "Zb4f3zuwdkVm",
   "metadata": {
    "id": "Zb4f3zuwdkVm"
   },
   "source": [
    "**Between box plot and density plot which one is the best? Also, which ngram_range will be the best for our project and why?**"
   ]
  },
  {
   "cell_type": "code",
   "execution_count": 24,
   "id": "vhqgQiK-8KYA",
   "metadata": {
    "colab": {
     "base_uri": "https://localhost:8080/",
     "height": 493
    },
    "id": "vhqgQiK-8KYA",
    "outputId": "645874d1-62d0-4a03-ecd8-2d0b8ea2762d"
   },
   "outputs": [
    {
     "data": {
      "image/png": "[encoded data removed]",
      "text/plain": [
       "<Figure size 640x480 with 1 Axes>"
      ]
     },
     "metadata": {},
     "output_type": "display_data"
    }
   ],
   "source": [
    "vect_news = CountVectorizer(lowercase=True, stop_words='english', max_features=20,analyzer='word', ngram_range=(1, 2))\n",
    "News_fit=vect_news.fit_transform(News['message'].values.astype(str))\n",
    "News_Names=vect_news.get_feature_names_out()\n",
    "News_counts=News_fit.toarray().sum(axis=0)\n",
    "\n",
    "\n",
    "sorted_indices = News_counts.argsort()\n",
    "sorted_words = [News_Names[i] for i in sorted_indices]\n",
    "sorted_counts = News_counts[sorted_indices]\n",
    "\n",
    "plt.barh(sorted_words, sorted_counts )\n",
    "plt.xticks(rotation=90)\n",
    "plt.xlabel('Counts')\n",
    "plt.ylabel('Words')\n",
    "plt.title('Top 20 words of News Sentiment')\n",
    "plt.show()"
   ]
  },
  {
   "cell_type": "code",
   "execution_count": null,
   "id": "sd31yGgi8JZP",
   "metadata": {
    "colab": {
     "base_uri": "https://localhost:8080/",
     "height": 493
    },
    "id": "sd31yGgi8JZP",
    "outputId": "b3494837-b1c5-4cb1-ea2a-ab5c39077aa5"
   },
   "outputs": [
    {
     "data": {
      "image/png": "[encoded data removed]",
      "text/plain": [
       "<Figure size 640x480 with 1 Axes>"
      ]
     },
     "metadata": {},
     "output_type": "display_data"
    }
   ],
   "source": [
    "vect_Pro = CountVectorizer(lowercase=True, stop_words='english', max_features=20,analyzer='word', ngram_range=(1, 2))\n",
    "Pro_fit = vect_Pro.fit_transform(Pro['message'].values.astype(str))\n",
    "Pro_Names=vect_Pro.get_feature_names_out()\n",
    "Pro_counts=Pro_fit.toarray().sum(axis=0)\n",
    "\n",
    "sorted_indices = Pro_counts.argsort()\n",
    "sorted_words = [Pro_Names[i] for i in sorted_indices]\n",
    "sorted_counts = Pro_counts[sorted_indices]\n",
    "\n",
    "plt.barh(sorted_words, sorted_counts)\n",
    "plt.xticks(rotation=90)\n",
    "plt.xlabel('Counts')\n",
    "plt.ylabel('Words')\n",
    "plt.title('Top 20 words of Pro Sentiment')\n",
    "plt.show()"
   ]
  },
  {
   "cell_type": "code",
   "execution_count": null,
   "id": "xJssV0Eb8TWY",
   "metadata": {
    "colab": {
     "base_uri": "https://localhost:8080/",
     "height": 484
    },
    "id": "xJssV0Eb8TWY",
    "outputId": "b5a15947-26ab-47ee-d8fd-beec54d5c378"
   },
   "outputs": [
    {
     "data": {
      "image/png": "[encoded data removed]",
      "text/plain": [
       "<Figure size 640x480 with 1 Axes>"
      ]
     },
     "metadata": {},
     "output_type": "display_data"
    }
   ],
   "source": [
    "vect_Anti = CountVectorizer(lowercase=True, stop_words='english',  max_features=20, analyzer='word', ngram_range=(1, 2))\n",
    "Anti_fit = vect_Anti.fit_transform(Anti['message'].values.astype(str))\n",
    "Anti_Names=vect_Anti.get_feature_names_out()\n",
    "Anti_counts=Anti_fit.toarray().sum(axis=0)\n",
    "\n",
    "sorted_indices = Anti_counts.argsort()\n",
    "sorted_words = [Anti_Names[i] for i in sorted_indices]\n",
    "sorted_counts = Anti_counts[sorted_indices]\n",
    "\n",
    "plt.barh(sorted_words, sorted_counts)\n",
    "plt.xticks(rotation=90)\n",
    "plt.xlabel('Counts')\n",
    "plt.ylabel('Words')\n",
    "plt.title('Top 20 words of Anti Sentiment')\n",
    "plt.show()"
   ]
  },
  {
   "cell_type": "code",
   "execution_count": null,
   "id": "WblNZDqC8cYH",
   "metadata": {
    "colab": {
     "base_uri": "https://localhost:8080/",
     "height": 493
    },
    "id": "WblNZDqC8cYH",
    "outputId": "b537f12d-983a-406b-b381-b0c36d63e2e8"
   },
   "outputs": [
    {
     "data": {
      "image/png": "[encoded data removed]",
      "text/plain": [
       "<Figure size 640x480 with 1 Axes>"
      ]
     },
     "metadata": {},
     "output_type": "display_data"
    }
   ],
   "source": [
    "vect_Neutral = CountVectorizer(lowercase=True, stop_words='english', max_features=20,analyzer='word', ngram_range=(1, 2))\n",
    "Neutral_fit=vect_Neutral.fit_transform(Neutral['message'].values.astype(str))\n",
    "Neutral_Names=vect_Neutral.get_feature_names_out()\n",
    "Neutral_counts=Neutral_fit.toarray().sum(axis=0)\n",
    "\n",
    "sorted_indices = Neutral_counts.argsort()\n",
    "sorted_words = [Neutral_Names[i] for i in sorted_indices]\n",
    "sorted_counts = Neutral_counts[sorted_indices]\n",
    "\n",
    "plt.barh(sorted_words, sorted_counts)\n",
    "plt.xticks(rotation=90)\n",
    "plt.xlabel('Counts')\n",
    "plt.ylabel('Words')\n",
    "plt.title('Top 20 words of Neutral Sentiment')\n",
    "plt.show()"
   ]
  },
  {
   "cell_type": "code",
   "execution_count": 26,
   "id": "25Y--YUgRsdY",
   "metadata": {
    "colab": {
     "base_uri": "https://localhost:8080/",
     "height": 307
    },
    "id": "25Y--YUgRsdY",
    "outputId": "42218e0e-35c1-435b-b5df-5151e8403d81"
   },
   "outputs": [
    {
     "ename": "ModuleNotFoundError",
     "evalue": "No module named 'wordcloud'",
     "output_type": "error",
     "traceback": [
      "\u001b[1;31m---------------------------------------------------------------------------\u001b[0m",
      "\u001b[1;31mModuleNotFoundError\u001b[0m                       Traceback (most recent call last)",
      "\u001b[1;32m~\\AppData\\Local\\Temp\\ipykernel_1312\\1242570817.py\u001b[0m in \u001b[0;36m<module>\u001b[1;34m\u001b[0m\n\u001b[1;32m----> 1\u001b[1;33m \u001b[1;32mfrom\u001b[0m \u001b[0mwordcloud\u001b[0m \u001b[1;32mimport\u001b[0m \u001b[0mWordCloud\u001b[0m\u001b[1;33m\u001b[0m\u001b[1;33m\u001b[0m\u001b[0m\n\u001b[0m\u001b[0;32m      2\u001b[0m \u001b[1;32mimport\u001b[0m \u001b[0mmatplotlib\u001b[0m\u001b[1;33m.\u001b[0m\u001b[0mpyplot\u001b[0m \u001b[1;32mas\u001b[0m \u001b[0mplt\u001b[0m\u001b[1;33m\u001b[0m\u001b[1;33m\u001b[0m\u001b[0m\n\u001b[0;32m      3\u001b[0m \u001b[1;33m\u001b[0m\u001b[0m\n\u001b[0;32m      4\u001b[0m \u001b[0mvect_Neutral\u001b[0m \u001b[1;33m=\u001b[0m \u001b[0mCountVectorizer\u001b[0m\u001b[1;33m(\u001b[0m\u001b[0mlowercase\u001b[0m\u001b[1;33m=\u001b[0m\u001b[1;32mTrue\u001b[0m\u001b[1;33m,\u001b[0m \u001b[0mstop_words\u001b[0m\u001b[1;33m=\u001b[0m\u001b[1;34m'english'\u001b[0m\u001b[1;33m,\u001b[0m \u001b[0mmax_features\u001b[0m\u001b[1;33m=\u001b[0m\u001b[1;36m100\u001b[0m\u001b[1;33m,\u001b[0m \u001b[0manalyzer\u001b[0m\u001b[1;33m=\u001b[0m\u001b[1;34m'word'\u001b[0m\u001b[1;33m,\u001b[0m \u001b[0mngram_range\u001b[0m\u001b[1;33m=\u001b[0m\u001b[1;33m(\u001b[0m\u001b[1;36m1\u001b[0m\u001b[1;33m,\u001b[0m \u001b[1;36m2\u001b[0m\u001b[1;33m)\u001b[0m\u001b[1;33m)\u001b[0m\u001b[1;33m\u001b[0m\u001b[1;33m\u001b[0m\u001b[0m\n\u001b[0;32m      5\u001b[0m \u001b[0mNeutral_fit\u001b[0m \u001b[1;33m=\u001b[0m \u001b[0mvect_Neutral\u001b[0m\u001b[1;33m.\u001b[0m\u001b[0mfit_transform\u001b[0m\u001b[1;33m(\u001b[0m\u001b[0mNeutral\u001b[0m\u001b[1;33m[\u001b[0m\u001b[1;34m'message'\u001b[0m\u001b[1;33m]\u001b[0m\u001b[1;33m.\u001b[0m\u001b[0mvalues\u001b[0m\u001b[1;33m.\u001b[0m\u001b[0mastype\u001b[0m\u001b[1;33m(\u001b[0m\u001b[0mstr\u001b[0m\u001b[1;33m)\u001b[0m\u001b[1;33m)\u001b[0m\u001b[1;33m\u001b[0m\u001b[1;33m\u001b[0m\u001b[0m\n",
      "\u001b[1;31mModuleNotFoundError\u001b[0m: No module named 'wordcloud'"
     ]
    }
   ],
   "source": [
    "from wordcloud import WordCloud\n",
    "import matplotlib.pyplot as plt\n",
    "\n",
    "vect_Neutral = CountVectorizer(lowercase=True, stop_words='english', max_features=100, analyzer='word', ngram_range=(1, 2))\n",
    "Neutral_fit = vect_Neutral.fit_transform(Neutral['message'].values.astype(str))\n",
    "Neutral_Names = vect_Neutral.get_feature_names_out()\n",
    "Neutral_counts = Neutral_fit.toarray().sum(axis=0)\n",
    "\n",
    "wordcloud_data = {word: count for word, count in zip(Neutral_Names, Neutral_counts)}\n",
    "\n",
    "wordcloud = WordCloud()\n",
    "wordcloud.generate_from_frequencies(wordcloud_data)\n",
    "\n",
    "plt.imshow(wordcloud, interpolation='bilinear')\n",
    "plt.axis('off')\n",
    "plt.title('Word Cloud of Neutral Sentiment')\n",
    "plt.show()"
   ]
  },
  {
   "cell_type": "markdown",
   "id": "3fa93ec6",
   "metadata": {
    "id": "3fa93ec6"
   },
   "source": [
    "<a id=\"four\"></a>\n",
    "## 4. Data Engineering\n",
    "<a class=\"anchor\" id=\"1.1\"></a>\n",
    "<a href=#cont>Back to Table of Contents</a>\n",
    "\n",
    "---\n",
    "\n",
    "| ⚡ Description: Data engineering ⚡ |\n",
    "| :--------------------------- |\n",
    "| In this section you are required to: clean the dataset, and possibly create new features - as identified in the EDA phase. |\n",
    "\n",
    "---"
   ]
  },
  {
   "cell_type": "code",
   "execution_count": 27,
   "id": "bbd5e2e7",
   "metadata": {},
   "outputs": [
    {
     "data": {
      "text/plain": [
       "sentiment    0\n",
       "message      0\n",
       "tweetid      0\n",
       "count        0\n",
       "dtype: int64"
      ]
     },
     "execution_count": 27,
     "metadata": {},
     "output_type": "execute_result"
    }
   ],
   "source": [
    "df_train.isnull().sum() #check the number of missing values (null) in each column of the DataFrame"
   ]
  },
  {
   "cell_type": "code",
   "execution_count": 30,
   "id": "1e4e718b",
   "metadata": {},
   "outputs": [
    {
     "data": {
      "text/plain": [
       "message    0\n",
       "tweetid    0\n",
       "dtype: int64"
      ]
     },
     "execution_count": 30,
     "metadata": {},
     "output_type": "execute_result"
    }
   ],
   "source": [
    "df_test.isnull().sum() #check the number of missing values (null) in each column of the DataFrame"
   ]
  },
  {
   "cell_type": "code",
   "execution_count": 35,
   "id": "ac93a38b",
   "metadata": {},
   "outputs": [],
   "source": [
    "def remove_noise(text):\n",
    "    #Replace URLs with 'url'\n",
    "    text=re.sub(r'http[s]?://(?:[A-Za-z]|([0-9]|[$-@.&+]|[!*\\ (\\ ),]|(?:%[0-9A-Fa-f][0-9A-Fa-f]))+','http',text)\n",
    "    #Replace Twitter handles with 'user'\n",
    "    text=re.sub(r'@\\w+','',text)\n",
    "    #Remove hashtags using regular expression\n",
    "    text=re.sub(r'#\\w+','',text)\n",
    "    #Replace special characters with a space\n",
    "    text=re.sub(r'[^ZA-Z\\s]','',text)\n",
    "    #Remove extra whitespaces\n",
    "    text=re.sub(r'\\s+','',text).strip()\n",
    "    #Cnovert to lowercase\n",
    "    text=text.lower()\n",
    "    #Remove Stopwords\n",
    "    stop_words=set(stopwords.words('english'))\n",
    "    text=''.join(word for word in text.split() if word not in stop_words)\n",
    "    #lemmatizer words\n",
    "    lemmatizer = wordsnetlemmatizer()\n",
    "    text=''.join(lemmatizer.lemmatizer(word) for word in text.split())\n",
    "    return text"
   ]
  },
  {
   "cell_type": "markdown",
   "id": "fj7MO_yx4_nH",
   "metadata": {
    "id": "fj7MO_yx4_nH"
   },
   "source": [
    "**Important information to consider**\n",
    "DANIEL SUGGESTS THAT WE USE DOWNSAMPLING BECAUSE UPSAMPLING CAUSES OVERFITTING!!!!\n",
    "Also Variable selection to reduce the number of features that we have......"
   ]
  },
  {
   "cell_type": "code",
   "execution_count": 36,
   "id": "1-D_02jHPLxO",
   "metadata": {
    "colab": {
     "base_uri": "https://localhost:8080/"
    },
    "id": "1-D_02jHPLxO",
    "outputId": "e2dbdfa8-a584-4d4d-9548-7cad92054178"
   },
   "outputs": [
    {
     "data": {
      "text/plain": [
       "4265.0"
      ]
     },
     "execution_count": 36,
     "metadata": {},
     "output_type": "execute_result"
    }
   ],
   "source": [
    "len(Pro)/2 #calculate the length of a variable and divide it by 2"
   ]
  },
  {
   "cell_type": "markdown",
   "id": "OtKuuZjLVbNT",
   "metadata": {
    "id": "OtKuuZjLVbNT"
   },
   "source": [
    "**Masking Sentiments into Four classes**"
   ]
  },
  {
   "cell_type": "code",
   "execution_count": 39,
   "id": "-Q7eA4pQRCyh",
   "metadata": {
    "id": "-Q7eA4pQRCyh"
   },
   "outputs": [],
   "source": [
    "#Masking the Pro Sentiment\n",
    "Pro=df_train[df_train['sentiment']==1]\n",
    "#Masking the New Sentiment\n",
    "News=df_train[df_train['sentiment']==2]\n",
    "#Masking the Neutral Sentiment\n",
    "Neutral=df_train[df_train['sentiment']==0]\n",
    "#Masking the Anti Sentiment\n",
    "Anti=df_train[df_train['sentiment']==-1]"
   ]
  },
  {
   "cell_type": "markdown",
   "id": "spMiNMSOU1iq",
   "metadata": {
    "id": "spMiNMSOU1iq"
   },
   "source": [
    "**Downsamlping the Pro sentiment:**"
   ]
  },
  {
   "cell_type": "code",
   "execution_count": 40,
   "id": "V-BejHUaQ7jo",
   "metadata": {
    "id": "V-BejHUaQ7jo"
   },
   "outputs": [],
   "source": [
    "Pro_down= resample(Pro,\n",
    "                    replace=False, # sample with replacement (we need to duplicate observations)\n",
    "                    n_samples=4265, # match number in minority class\n",
    "                    random_state=27)"
   ]
  },
  {
   "cell_type": "markdown",
   "id": "Rk5LiN2fVLd8",
   "metadata": {
    "id": "Rk5LiN2fVLd8"
   },
   "source": [
    "**Upsampling the News sentiment:**"
   ]
  },
  {
   "cell_type": "code",
   "execution_count": 41,
   "id": "BXEX2doeRa9j",
   "metadata": {
    "id": "BXEX2doeRa9j"
   },
   "outputs": [],
   "source": [
    "News_up = resample(News,\n",
    "                   replace=True, # sample with replacement (we need to duplicate observations)\n",
    "                   n_samples=4265, # match number in minority class\n",
    "                   random_state=27)"
   ]
  },
  {
   "cell_type": "markdown",
   "id": "P60BuXY1VQUy",
   "metadata": {
    "id": "P60BuXY1VQUy"
   },
   "source": [
    "**Upsampling the Neutral sentiment:**"
   ]
  },
  {
   "cell_type": "code",
   "execution_count": 42,
   "id": "VKvJYQZDRbDr",
   "metadata": {
    "id": "VKvJYQZDRbDr"
   },
   "outputs": [],
   "source": [
    "Neutral_upsampled = resample(Neutral,\n",
    "                          replace=True, # sample with replacement (we need to duplicate observations)\n",
    "                          n_samples=4265, # match number in minority class\n",
    "                          random_state=27)"
   ]
  },
  {
   "cell_type": "markdown",
   "id": "n9ipKH26VWXS",
   "metadata": {
    "id": "n9ipKH26VWXS"
   },
   "source": [
    "**Upsampling the Anti sentiment:**"
   ]
  },
  {
   "cell_type": "code",
   "execution_count": 43,
   "id": "HxO_6GEoRbMP",
   "metadata": {
    "id": "HxO_6GEoRbMP"
   },
   "outputs": [],
   "source": [
    "Anti_upsampled = resample(Anti,\n",
    "                          replace=True, # sample with replacement (we need to duplicate observations)\n",
    "                          n_samples=4265, # match number in minority class\n",
    "                          random_state=27)"
   ]
  },
  {
   "cell_type": "markdown",
   "id": "YHnsvGeASg5x",
   "metadata": {
    "id": "YHnsvGeASg5x"
   },
   "source": [
    "**Joining resampled sentiments**"
   ]
  },
  {
   "cell_type": "code",
   "execution_count": 44,
   "id": "K_I0twICSfrn",
   "metadata": {
    "id": "K_I0twICSfrn"
   },
   "outputs": [],
   "source": [
    "X = pd.concat([Anti_upsampled, Neutral_upsampled, News_up, Pro_down])"
   ]
  },
  {
   "cell_type": "code",
   "execution_count": 45,
   "id": "XKdEElruTWIC",
   "metadata": {
    "id": "XKdEElruTWIC"
   },
   "outputs": [],
   "source": [
    "y=X['sentiment']"
   ]
  },
  {
   "cell_type": "markdown",
   "id": "SNP8MR9bVk7x",
   "metadata": {
    "id": "SNP8MR9bVk7x"
   },
   "source": [
    "**Natural Langauge Processing using Countvectorizer**"
   ]
  },
  {
   "cell_type": "code",
   "execution_count": null,
   "id": "Op81huNY8Hda",
   "metadata": {
    "id": "Op81huNY8Hda"
   },
   "outputs": [],
   "source": []
  },
  {
   "cell_type": "code",
   "execution_count": 46,
   "id": "2344b3e0",
   "metadata": {
    "id": "2344b3e0"
   },
   "outputs": [],
   "source": [
    "#Building a CountVectorizer\n",
    "vect_Pro = CountVectorizer(lowercase=True, stop_words='english', analyzer='word', ngram_range=(1, 2))\n",
    "#Fitting and Transforming the data\n",
    "X= vect_Pro.fit_transform(X['message'].values.astype(str))"
   ]
  },
  {
   "cell_type": "code",
   "execution_count": 47,
   "id": "oKm5Jga0-H4t",
   "metadata": {
    "id": "oKm5Jga0-H4t"
   },
   "outputs": [],
   "source": [
    "import pickle\n",
    "pickle.dump(vect_Pro, open( \"vect_Pro.pkl\", \"wb\" ))"
   ]
  },
  {
   "cell_type": "code",
   "execution_count": null,
   "id": "5SYxGZR0-DCP",
   "metadata": {
    "id": "5SYxGZR0-DCP"
   },
   "outputs": [],
   "source": []
  },
  {
   "cell_type": "markdown",
   "id": "XZrWzKbjYMiJ",
   "metadata": {
    "id": "XZrWzKbjYMiJ"
   },
   "source": [
    "**Feature selection**\n",
    "\n"
   ]
  },
  {
   "cell_type": "code",
   "execution_count": 48,
   "id": "fmjf8CiLYi18",
   "metadata": {
    "id": "fmjf8CiLYi18"
   },
   "outputs": [],
   "source": [
    "# Import the feature selector module\n",
    "from sklearn import feature_selection\n",
    "from sklearn.feature_selection import f_classif\n",
    "\n",
    "# Set up selector, choosing score function and number of features to retain\n",
    "selector_kbest = feature_selection.SelectKBest(score_func=f_classif, k=50000)\n",
    "\n",
    "# Transform (i.e.: run selection on) the training data\n",
    "X= selector_kbest.fit_transform(X, y)"
   ]
  },
  {
   "cell_type": "markdown",
   "id": "eEFsOEcDc78r",
   "metadata": {
    "id": "eEFsOEcDc78r"
   },
   "source": [
    "How many features do we really need and why?"
   ]
  },
  {
   "cell_type": "code",
   "execution_count": 49,
   "id": "brYqJwgTTjG_",
   "metadata": {
    "colab": {
     "base_uri": "https://localhost:8080/"
    },
    "id": "brYqJwgTTjG_",
    "outputId": "6bf8f42c-b07c-41e9-f55a-49a1bdca1b0d"
   },
   "outputs": [
    {
     "data": {
      "text/plain": [
       "(17060, 50000)"
      ]
     },
     "execution_count": 49,
     "metadata": {},
     "output_type": "execute_result"
    }
   ],
   "source": [
    "X.shape"
   ]
  },
  {
   "cell_type": "markdown",
   "id": "NatcP202Zued",
   "metadata": {
    "id": "NatcP202Zued"
   },
   "source": [
    "**Spliting the data**"
   ]
  },
  {
   "cell_type": "code",
   "execution_count": null,
   "id": "59692724",
   "metadata": {
    "id": "59692724"
   },
   "outputs": [],
   "source": [
    "X_train, X_test, y_train, y_test=train_test_split(X, y,test_size=0.2, random_state=42)"
   ]
  },
  {
   "cell_type": "markdown",
   "id": "43b2d523",
   "metadata": {
    "id": "43b2d523"
   },
   "source": [
    "<a id=\"five\"></a>\n",
    "## 5. Modelling\n",
    "<a class=\"anchor\" id=\"1.1\"></a>\n",
    "<a href=#cont>Back to Table of Contents</a>\n",
    "\n",
    "---\n",
    "\n",
    "| ⚡ Description: Modelling ⚡ |\n",
    "| :--------------------------- |\n",
    "| In this section, you are required to create one or more regression models that are able to accurately predict the thee hour load shortfall. |\n",
    "\n",
    "---"
   ]
  },
  {
   "cell_type": "markdown",
   "id": "AHoMYOQ2Xf7F",
   "metadata": {
    "id": "AHoMYOQ2Xf7F"
   },
   "source": [
    "**LOGISTIC REGRESSION MODEL**"
   ]
  },
  {
   "cell_type": "code",
   "execution_count": null,
   "id": "9c58df02",
   "metadata": {
    "id": "9c58df02"
   },
   "outputs": [],
   "source": [
    "# #Building the logistic Regression Model\n",
    "# lr=LogisticRegression()\n",
    "# #Fitting Logistics regression model\n",
    "# lr.fit(X_train, y_train)"
   ]
  },
  {
   "cell_type": "code",
   "execution_count": null,
   "id": "20d073e0",
   "metadata": {
    "id": "20d073e0"
   },
   "outputs": [],
   "source": [
    "# #Predicting on the testing data\n",
    "# test_preds=lr.predict(X_test)\n",
    "# #Predicting on the training data\n",
    "# train_preds=lr.predict(X_train)"
   ]
  },
  {
   "cell_type": "code",
   "execution_count": null,
   "id": "X7e2NOVwWR7-",
   "metadata": {
    "id": "X7e2NOVwWR7-"
   },
   "outputs": [],
   "source": [
    "# print(classification_report(y_train, train_preds))"
   ]
  },
  {
   "cell_type": "code",
   "execution_count": null,
   "id": "a70c15d7",
   "metadata": {
    "id": "a70c15d7"
   },
   "outputs": [],
   "source": [
    "# print(classification_report(y_test, test_preds))"
   ]
  },
  {
   "cell_type": "markdown",
   "id": "8ka9SlypX9zH",
   "metadata": {
    "id": "8ka9SlypX9zH"
   },
   "source": [
    "**DECISION TREE CLASSIFIER**"
   ]
  },
  {
   "cell_type": "code",
   "execution_count": null,
   "id": "jOo2vgNFYBWC",
   "metadata": {
    "id": "jOo2vgNFYBWC"
   },
   "outputs": [],
   "source": [
    "# #Building the  Decision Tree Classifier Model\n",
    "# dtc=DecisionTreeClassifier(max_depth=7)\n",
    "# #Fitting Decision Tree  Classifier model\n",
    "# dtc.fit(X_train, y_train)"
   ]
  },
  {
   "cell_type": "code",
   "execution_count": null,
   "id": "P0pGRYfGYPem",
   "metadata": {
    "id": "P0pGRYfGYPem"
   },
   "outputs": [],
   "source": [
    "# #Predicting on the testing data\n",
    "# test_preds=dtc.predict(X_test)\n",
    "# #Predicting on the training data\n",
    "# train_preds=dtc.predict(X_train)"
   ]
  },
  {
   "cell_type": "code",
   "execution_count": null,
   "id": "joQD7tqCYbfB",
   "metadata": {
    "id": "joQD7tqCYbfB"
   },
   "outputs": [],
   "source": [
    "# print(classification_report(y_train, train_preds))"
   ]
  },
  {
   "cell_type": "code",
   "execution_count": null,
   "id": "ezlqJBMKYXMS",
   "metadata": {
    "id": "ezlqJBMKYXMS"
   },
   "outputs": [],
   "source": [
    "# print(classification_report(y_test, test_preds))"
   ]
  },
  {
   "cell_type": "markdown",
   "id": "6C3hsuzDYxId",
   "metadata": {
    "id": "6C3hsuzDYxId"
   },
   "source": [
    "**RANDOM FOREST CLASSIFIER**"
   ]
  },
  {
   "cell_type": "code",
   "execution_count": null,
   "id": "pXn4RgseYwyL",
   "metadata": {
    "id": "pXn4RgseYwyL"
   },
   "outputs": [],
   "source": [
    "# #Building the Random Forest Classifer Model\n",
    "# rfc=RandomForestClassfier(max_depth=3, n_estimators=100)\n",
    "# #Fitting Random forest classifier model\n",
    "# rfc.fit(X_train, y_train)"
   ]
  },
  {
   "cell_type": "code",
   "execution_count": null,
   "id": "k3Rk7j4iY5Ht",
   "metadata": {
    "id": "k3Rk7j4iY5Ht"
   },
   "outputs": [],
   "source": [
    "# #Predicting on the testing data\n",
    "# test_preds=rfc.predict(X_test)\n",
    "# #Predicting on the training data\n",
    "# train_preds=rfc.predict(X_train)"
   ]
  },
  {
   "cell_type": "code",
   "execution_count": null,
   "id": "-tP5MIptY5LH",
   "metadata": {
    "id": "-tP5MIptY5LH"
   },
   "outputs": [],
   "source": [
    "# print(classification_report(y_train, train_preds))"
   ]
  },
  {
   "cell_type": "code",
   "execution_count": null,
   "id": "AOP3ELt2Y5OV",
   "metadata": {
    "id": "AOP3ELt2Y5OV"
   },
   "outputs": [],
   "source": [
    "# print(classification_report(y_test, test_preds))"
   ]
  },
  {
   "cell_type": "markdown",
   "id": "37WCeZwGZz8U",
   "metadata": {
    "id": "37WCeZwGZz8U"
   },
   "source": [
    "**KNN Classifier**"
   ]
  },
  {
   "cell_type": "code",
   "execution_count": null,
   "id": "leWbeEgmaahX",
   "metadata": {
    "id": "leWbeEgmaahX"
   },
   "outputs": [],
   "source": [
    "# n_neighbors = 100\n",
    "\n",
    "# #Building the Model\n",
    "# knn = KNeighborsClassifier(n_neighbors)\n",
    "# # Fit the model\n",
    "# knn.fit(X_train, y_train)"
   ]
  },
  {
   "cell_type": "code",
   "execution_count": null,
   "id": "hKPrQbQSaoG5",
   "metadata": {
    "id": "hKPrQbQSaoG5"
   },
   "outputs": [],
   "source": [
    "# # Get predictions on the test set\n",
    "# y_hat = knn.predict(X_test)\n",
    "# # Calculate the loss\n",
    "# print(classification_report(y_test, y_hat))"
   ]
  },
  {
   "cell_type": "code",
   "execution_count": null,
   "id": "eVtfHxK2bE5h",
   "metadata": {
    "id": "eVtfHxK2bE5h"
   },
   "outputs": [],
   "source": [
    "# print(classification_report(y_train, knn.predict(X_train)))"
   ]
  },
  {
   "cell_type": "markdown",
   "id": "ljy7MIlVbQZ3",
   "metadata": {
    "id": "ljy7MIlVbQZ3"
   },
   "source": [
    "**Support Vector Machine**"
   ]
  },
  {
   "cell_type": "code",
   "execution_count": null,
   "id": "Ujy7id6rbWIA",
   "metadata": {
    "id": "Ujy7id6rbWIA"
   },
   "outputs": [],
   "source": [
    "# svc = SVC(kernel='rbf')\n",
    "# svc.fit(X_train, y_train)\n",
    "# y_pred = svc.predict(X_test)"
   ]
  },
  {
   "cell_type": "code",
   "execution_count": null,
   "id": "WbGWTf-mbyXt",
   "metadata": {
    "id": "WbGWTf-mbyXt"
   },
   "outputs": [],
   "source": [
    "# print(classification_report(y_test, y_pred))"
   ]
  },
  {
   "cell_type": "code",
   "execution_count": null,
   "id": "1Yp7sc5bb4g-",
   "metadata": {
    "id": "1Yp7sc5bb4g-"
   },
   "outputs": [],
   "source": [
    "# print(classification_report(y_train, svc.predict(X_train)))"
   ]
  },
  {
   "cell_type": "code",
   "execution_count": null,
   "id": "eQ4dNv6j3AiQ",
   "metadata": {
    "id": "eQ4dNv6j3AiQ"
   },
   "outputs": [],
   "source": [
    "# import pickle\n",
    "# pickle.dump(svc, open( \"svc.pkl\", \"wb\" ))"
   ]
  },
  {
   "cell_type": "markdown",
   "id": "sGPgnBHFZHHP",
   "metadata": {
    "id": "sGPgnBHFZHHP"
   },
   "source": [
    "**Neural Network**"
   ]
  },
  {
   "cell_type": "code",
   "execution_count": null,
   "id": "eAfvddr8ZLWL",
   "metadata": {
    "id": "eAfvddr8ZLWL"
   },
   "outputs": [],
   "source": [
    "# model = Sequential()\n",
    "# model.add(Dense(89155, activation='relu'))\n",
    "# model.add(Dense(60, activation='softmax'))\n",
    "# model.add(Dense(60, activation='softmax'))\n",
    "# model.add(Dense(4, activation='softmax'))"
   ]
  },
  {
   "cell_type": "code",
   "execution_count": null,
   "id": "-F53vzKIkDJI",
   "metadata": {
    "id": "-F53vzKIkDJI"
   },
   "outputs": [],
   "source": [
    "# model.compile(loss='categorical_crossentropy', optimizer='adam', metrics=['accuracy'])"
   ]
  },
  {
   "cell_type": "code",
   "execution_count": null,
   "id": "7jqTJvElcpwf",
   "metadata": {
    "id": "7jqTJvElcpwf"
   },
   "outputs": [],
   "source": [
    "# model.fit(X_train, y_train, epochs=10, batch_size=100)\n"
   ]
  },
  {
   "cell_type": "code",
   "execution_count": null,
   "id": "IrhSQTBulIoQ",
   "metadata": {
    "id": "IrhSQTBulIoQ"
   },
   "outputs": [],
   "source": [
    "# loss, accuracy = model.evaluate(X_test, y_test)\n",
    "# print(f'Test Loss: {loss:.4f}')\n",
    "# print(f'Test Accuracy: {accuracy:.4f}')"
   ]
  },
  {
   "cell_type": "markdown",
   "id": "1Q_Hvq85mhdp",
   "metadata": {
    "id": "1Q_Hvq85mhdp"
   },
   "source": [
    "**Building All classifiers**"
   ]
  },
  {
   "cell_type": "code",
   "execution_count": null,
   "id": "XbwdhjkUmlDU",
   "metadata": {
    "id": "XbwdhjkUmlDU"
   },
   "outputs": [],
   "source": [
    "names = ['Logistic Regression', 'Nearest Neighbors',\n",
    "         'RBF SVM',\n",
    "         'Decision Tree', 'Random Forest']"
   ]
  },
  {
   "cell_type": "code",
   "execution_count": null,
   "id": "JqvJ_Uujm6me",
   "metadata": {
    "id": "JqvJ_Uujm6me"
   },
   "outputs": [],
   "source": [
    "classifiers = [\n",
    "    LogisticRegression(C=1),\n",
    "    KNeighborsClassifier(10),\n",
    "    SVC(kernel=\"rbf\", gamma=2, C=0.025),\n",
    "    DecisionTreeClassifier(max_depth=3),\n",
    "    RandomForestClassifier(max_depth=5, n_estimators=10, max_features=1),\n",
    "]"
   ]
  },
  {
   "cell_type": "code",
   "execution_count": null,
   "id": "MQ0jPnzrnRpN",
   "metadata": {
    "id": "MQ0jPnzrnRpN"
   },
   "outputs": [],
   "source": [
    "results_train = []\n",
    "results_test=[]\n",
    "\n",
    "models = {}\n",
    "confusion = {}\n",
    "class_report = {}\n",
    "\n",
    "for name, clf in zip(names, classifiers):\n",
    "\n",
    "    #Fitting the models and recording the time\n",
    "    run_time = %timeit -q -o clf.fit(X_train, y_train)\n",
    "\n",
    "    #Start time\n",
    "    start_time = time.time()\n",
    "    #Predicting on y_train using X_train\n",
    "    y_pred = clf.predict(X_train)\n",
    "    #End time\n",
    "    end_time = time.time()\n",
    "    #Execution Time\n",
    "    train_execution_time = end_time - start_time\n",
    "\n",
    "    #Start time\n",
    "    start_time = time.time()\n",
    "    #Predicting on y_train using X_train\n",
    "    y_pred_test = clf.predict(X_test)\n",
    "    #End time\n",
    "    end_time = time.time()\n",
    "    #Execution Time\n",
    "    test_execution_time = end_time - start_time\n",
    "\n",
    "    #Calculating the accuracy score of the training data\n",
    "    accuracy_train = accuracy_score(y_train, y_pred)\n",
    "    #Calculating the precision score of the training data\n",
    "    precision_train = precision_score(y_train, y_pred, average='micro')\n",
    "    #Calculating the recall score of the training data\n",
    "    recall_train = recall_score(y_train, y_pred, average='micro')\n",
    "    #Calculating the f1 score of the training data\n",
    "    f1_train = f1_score(y_train, y_pred, average='micro')\n",
    "\n",
    "\n",
    "    #Calculating the accuracy score of the testing data\n",
    "    accuracy_test = accuracy_score(y_test, y_pred_test)\n",
    "    #Calculating the precision score of the testing data\n",
    "    precision_test = precision_score(y_test, y_pred_test, average='micro')\n",
    "    #Calculating the recall score of the testing data\n",
    "    recall_test = recall_score(y_test, y_pred_test, average='micro')\n",
    "    #Calculating the F1 score of the testing data\n",
    "    f1_test   = f1_score(y_test, y_pred_test, average='micro')\n",
    "\n",
    "    # Save the results to dictionaries\n",
    "    models[name]=clf\n",
    "    #Confusion on the training data\n",
    "    confusion[name] = confusion_matrix(y_train, y_pred)\n",
    "    #Confusion on testing data\n",
    "    confusion[name] = confusion_matrix(y_test, y_pred_test)\n",
    "    #Classification report of the training data\n",
    "    class_report[name] = classification_report(y_train, y_pred)\n",
    "    #Classification report of the testing data\n",
    "    class_report[name] = classification_report(y_test, y_pred_test)\n",
    "\n",
    "    # Appending the name of the model, training data  results and fitting time of each model\n",
    "    results_train.append([name, accuracy_train, precision_train, recall_train, f1_train, run_time.best, test_execution_time])\n",
    "    # Appending the name of the model and  testing data  results\n",
    "    results_test.append([name, accuracy_test, precision_test, recall_test, f1_test, train_execution_time])\n",
    "\n",
    "#Converting the training results to a dataframe\n",
    "results_train= pd.DataFrame(results_train, columns=['Classifier', 'Accuracy Train', 'Precision Train', 'Recall', 'F1 Train', 'Train Time', 'predicting time'])\n",
    "results_train.set_index('Classifier', inplace= True)\n",
    "\n",
    "#Converting the Testing data into a Dataframe\n",
    "results_test= pd.DataFrame(results_test, columns=['Classifier', 'Accuracy Test', 'Precision  Test', 'Recall  Test', 'F1 Test', \"Predicting time\" ])\n",
    "results_test.set_index('Classifier', inplace= True)\n"
   ]
  },
  {
   "cell_type": "code",
   "execution_count": null,
   "id": "uZsbGPyd37mQ",
   "metadata": {
    "id": "uZsbGPyd37mQ"
   },
   "outputs": [],
   "source": [
    "results_train"
   ]
  },
  {
   "cell_type": "code",
   "execution_count": null,
   "id": "81Xvwob44GVh",
   "metadata": {
    "id": "81Xvwob44GVh"
   },
   "outputs": [],
   "source": [
    "results_test"
   ]
  },
  {
   "cell_type": "markdown",
   "id": "6b530251",
   "metadata": {
    "id": "6b530251"
   },
   "source": [
    "<a id=\"six\"></a>\n",
    "## 6. Model Performance\n",
    "<a class=\"anchor\" id=\"1.1\"></a>\n",
    "<a href=#cont>Back to Table of Contents</a>\n",
    "\n",
    "---\n",
    "\n",
    "| ⚡ Description: Model performance ⚡ |\n",
    "| :--------------------------- |\n",
    "| In this section you are required to compare the relative performance of the various trained ML models on a holdout dataset and comment on what model is the best and why. |\n",
    "\n",
    "---"
   ]
  },
  {
   "cell_type": "markdown",
   "id": "QotvF-xuPd7Z",
   "metadata": {
    "id": "QotvF-xuPd7Z"
   },
   "source": [
    "Besides accuracy, f1 score, precision and recall, also consider the training time????maybe ###un_time = %timeit -q -o knn.fit(X_train, y_train)"
   ]
  },
  {
   "cell_type": "code",
   "execution_count": null,
   "id": "msjao8m7Pzzn",
   "metadata": {
    "id": "msjao8m7Pzzn"
   },
   "outputs": [],
   "source": []
  },
  {
   "cell_type": "code",
   "execution_count": null,
   "id": "6a69b5a1",
   "metadata": {
    "id": "6a69b5a1"
   },
   "outputs": [],
   "source": [
    "# Compare model performance"
   ]
  },
  {
   "cell_type": "code",
   "execution_count": null,
   "id": "3874a7c6",
   "metadata": {
    "id": "3874a7c6"
   },
   "outputs": [],
   "source": [
    "# Choose best model and motivate why it is the best choice"
   ]
  },
  {
   "cell_type": "markdown",
   "id": "a8ad0c0d",
   "metadata": {
    "id": "a8ad0c0d"
   },
   "source": [
    "<a id=\"seven\"></a>\n",
    "## 7. Model Explanations\n",
    "<a class=\"anchor\" id=\"1.1\"></a>\n",
    "<a href=#cont>Back to Table of Contents</a>\n",
    "\n",
    "---\n",
    "\n",
    "| ⚡ Description: Model explanation ⚡ |\n",
    "| :--------------------------- |\n",
    "| In this section, you are required to discuss how the best performing model works in a simple way so that both technical and non-technical stakeholders can grasp the intuition behind the model's inner workings. |\n",
    "\n",
    "---"
   ]
  },
  {
   "cell_type": "code",
   "execution_count": null,
   "id": "5ff741c2",
   "metadata": {
    "id": "5ff741c2"
   },
   "outputs": [],
   "source": [
    "# discuss chosen methods logic"
   ]
  }
 ],
 "metadata": {
  "colab": {
   "provenance": []
  },
  "kernelspec": {
   "display_name": "Python 3 (ipykernel)",
   "language": "python",
   "name": "python3"
  },
  "language_info": {
   "codemirror_mode": {
    "name": "ipython",
    "version": 3
   },
   "file_extension": ".py",
   "mimetype": "text/x-python",
   "name": "python",
   "nbconvert_exporter": "python",
   "pygments_lexer": "ipython3",
   "version": "3.9.13"
  },
  "latex_envs": {
   "LaTeX_envs_menu_present": true,
   "autoclose": false,
   "autocomplete": true,
   "bibliofile": "biblio.bib",
   "cite_by": "apalike",
   "current_citInitial": 1,
   "eqLabelWithNumbers": true,
   "eqNumInitial": 1,
   "hotkeys": {
    "equation": "Ctrl-E",
    "itemize": "Ctrl-I"
   },
   "labels_anchors": false,
   "latex_user_defs": false,
   "report_style_numbering": false,
   "user_envs_cfg": false
  },
  "toc": {
   "base_numbering": 1,
   "nav_menu": {},
   "number_sections": true,
   "sideBar": true,
   "skip_h1_title": false,
   "title_cell": "Table of Contents",
   "title_sidebar": "Contents",
   "toc_cell": false,
   "toc_position": {},
   "toc_section_display": true,
   "toc_window_display": false
  },
  "varInspector": {
   "cols": {
    "lenName": 16,
    "lenType": 16,
    "lenVar": 40
   },
   "kernels_config": {
    "python": {
     "delete_cmd_postfix": "",
     "delete_cmd_prefix": "del ",
     "library": "var_list.py",
     "varRefreshCmd": "print(var_dic_list())"
    },
    "r": {
     "delete_cmd_postfix": ") ",
     "delete_cmd_prefix": "rm(",
     "library": "var_list.r",
     "varRefreshCmd": "cat(var_dic_list()) "
    }
   },
   "types_to_exclude": [
    "module",
    "function",
    "builtin_function_or_method",
    "instance",
    "_Feature"
   ],
   "window_display": false
  }
 },
 "nbformat": 4,
 "nbformat_minor": 5
}
